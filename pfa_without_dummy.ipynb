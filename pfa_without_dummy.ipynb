{
  "cells": [
    {
      "cell_type": "code",
      "execution_count": 1,
      "metadata": {
        "colab": {
          "base_uri": "https://localhost:8080/",
          "height": 73
        },
        "id": "ggU3BdM34T9z",
        "outputId": "26bdb727-f3cb-4aca-90ac-f0b981aafefa"
      },
      "outputs": [],
      "source": [
        "#from google.colab import files\n",
        "#uploaded = files.upload()\n"
      ]
    },
    {
      "cell_type": "markdown",
      "metadata": {
        "id": "PsZXKbb_-tBy"
      },
      "source": [
        "#1. Data description"
      ]
    },
    {
      "cell_type": "code",
      "execution_count": 2,
      "metadata": {
        "colab": {
          "base_uri": "https://localhost:8080/",
          "height": 539
        },
        "id": "ax92wOR4-WM0",
        "outputId": "9b0895d4-8341-4eee-d645-380e96434ada"
      },
      "outputs": [
        {
          "data": {
            "text/html": [
              "<div>\n",
              "<style scoped>\n",
              "    .dataframe tbody tr th:only-of-type {\n",
              "        vertical-align: middle;\n",
              "    }\n",
              "\n",
              "    .dataframe tbody tr th {\n",
              "        vertical-align: top;\n",
              "    }\n",
              "\n",
              "    .dataframe thead th {\n",
              "        text-align: right;\n",
              "    }\n",
              "</style>\n",
              "<table border=\"1\" class=\"dataframe\">\n",
              "  <thead>\n",
              "    <tr style=\"text-align: right;\">\n",
              "      <th></th>\n",
              "      <th>gesture_id</th>\n",
              "      <th>tap</th>\n",
              "      <th>app_name</th>\n",
              "      <th>origin_first_finger</th>\n",
              "      <th>pressure_first_finger</th>\n",
              "      <th>time_stamp_first</th>\n",
              "      <th>size_first_finger</th>\n",
              "      <th>x_coordinate_first_finger</th>\n",
              "      <th>y_coordinate_first_finger</th>\n",
              "      <th>distance</th>\n",
              "      <th>iskid</th>\n",
              "    </tr>\n",
              "  </thead>\n",
              "  <tbody>\n",
              "    <tr>\n",
              "      <th>0</th>\n",
              "      <td>76</td>\n",
              "      <td>Tap</td>\n",
              "      <td>NaN</td>\n",
              "      <td>False</td>\n",
              "      <td>42</td>\n",
              "      <td>1504800509763</td>\n",
              "      <td>4.0</td>\n",
              "      <td>326</td>\n",
              "      <td>944</td>\n",
              "      <td>0.0</td>\n",
              "      <td>1</td>\n",
              "    </tr>\n",
              "    <tr>\n",
              "      <th>1</th>\n",
              "      <td>33</td>\n",
              "      <td>Tap</td>\n",
              "      <td>NaN</td>\n",
              "      <td>False</td>\n",
              "      <td>30</td>\n",
              "      <td>1504192489823</td>\n",
              "      <td>4.0</td>\n",
              "      <td>158</td>\n",
              "      <td>1535</td>\n",
              "      <td>0.0</td>\n",
              "      <td>1</td>\n",
              "    </tr>\n",
              "    <tr>\n",
              "      <th>2</th>\n",
              "      <td>37</td>\n",
              "      <td>Swipe</td>\n",
              "      <td>com.google.android.apps.photos</td>\n",
              "      <td>True</td>\n",
              "      <td>39</td>\n",
              "      <td>1507562393497</td>\n",
              "      <td>3.0</td>\n",
              "      <td>1192</td>\n",
              "      <td>1303</td>\n",
              "      <td>0.0</td>\n",
              "      <td>0</td>\n",
              "    </tr>\n",
              "    <tr>\n",
              "      <th>3</th>\n",
              "      <td>82</td>\n",
              "      <td>Tap</td>\n",
              "      <td>com.mehequanna.gestureplayground</td>\n",
              "      <td>False</td>\n",
              "      <td>43</td>\n",
              "      <td>1504800515915</td>\n",
              "      <td>4.0</td>\n",
              "      <td>154</td>\n",
              "      <td>1491</td>\n",
              "      <td>0.0</td>\n",
              "      <td>1</td>\n",
              "    </tr>\n",
              "    <tr>\n",
              "      <th>4</th>\n",
              "      <td>43</td>\n",
              "      <td>Swipe</td>\n",
              "      <td>com.google.android.apps.photos</td>\n",
              "      <td>True</td>\n",
              "      <td>56</td>\n",
              "      <td>1500219771288</td>\n",
              "      <td>7.0</td>\n",
              "      <td>624</td>\n",
              "      <td>1477</td>\n",
              "      <td>0.0</td>\n",
              "      <td>0</td>\n",
              "    </tr>\n",
              "  </tbody>\n",
              "</table>\n",
              "</div>"
            ],
            "text/plain": [
              "   gesture_id    tap                          app_name  origin_first_finger  \\\n",
              "0          76    Tap                               NaN                False   \n",
              "1          33    Tap                               NaN                False   \n",
              "2          37  Swipe    com.google.android.apps.photos                 True   \n",
              "3          82    Tap  com.mehequanna.gestureplayground                False   \n",
              "4          43  Swipe    com.google.android.apps.photos                 True   \n",
              "\n",
              "   pressure_first_finger  time_stamp_first  size_first_finger  \\\n",
              "0                     42     1504800509763                4.0   \n",
              "1                     30     1504192489823                4.0   \n",
              "2                     39     1507562393497                3.0   \n",
              "3                     43     1504800515915                4.0   \n",
              "4                     56     1500219771288                7.0   \n",
              "\n",
              "   x_coordinate_first_finger  y_coordinate_first_finger  distance  iskid  \n",
              "0                        326                        944       0.0      1  \n",
              "1                        158                       1535       0.0      1  \n",
              "2                       1192                       1303       0.0      0  \n",
              "3                        154                       1491       0.0      1  \n",
              "4                        624                       1477       0.0      0  "
            ]
          },
          "metadata": {},
          "output_type": "display_data"
        },
        {
          "name": "stdout",
          "output_type": "stream",
          "text": [
            "<class 'pandas.core.frame.DataFrame'>\n",
            "RangeIndex: 17072 entries, 0 to 17071\n",
            "Data columns (total 11 columns):\n",
            " #   Column                     Non-Null Count  Dtype  \n",
            "---  ------                     --------------  -----  \n",
            " 0   gesture_id                 17072 non-null  int64  \n",
            " 1   tap                        17072 non-null  object \n",
            " 2   app_name                   10101 non-null  object \n",
            " 3   origin_first_finger        17072 non-null  bool   \n",
            " 4   pressure_first_finger      17072 non-null  int64  \n",
            " 5   time_stamp_first           17072 non-null  int64  \n",
            " 6   size_first_finger          17069 non-null  float64\n",
            " 7   x_coordinate_first_finger  17072 non-null  int64  \n",
            " 8   y_coordinate_first_finger  17072 non-null  int64  \n",
            " 9   distance                   17072 non-null  float64\n",
            " 10  iskid                      17072 non-null  int64  \n",
            "dtypes: bool(1), float64(2), int64(6), object(2)\n",
            "memory usage: 1.3+ MB\n"
          ]
        }
      ],
      "source": [
        "#from google.colab import files\n",
        "import pandas as pd\n",
        "import numpy as np\n",
        "# Load CSV data\n",
        "data = pd.read_csv('data.csv', encoding='latin', low_memory=False)\n",
        "data = pd.DataFrame(data)\n",
        "display(data.head())\n",
        "data.info()"
      ]
    },
    {
      "cell_type": "markdown",
      "metadata": {
        "id": "7kqNYop5-9pw"
      },
      "source": [
        "# 1.1. Features"
      ]
    },
    {
      "cell_type": "code",
      "execution_count": 3,
      "metadata": {
        "colab": {
          "base_uri": "https://localhost:8080/"
        },
        "id": "B7W7xdIn_MwO",
        "outputId": "e10c6239-535a-4dd2-c9f9-2205a3b349db"
      },
      "outputs": [
        {
          "name": "stdout",
          "output_type": "stream",
          "text": [
            "Index(['gesture_id', 'tap', 'app_name', 'origin_first_finger',\n",
            "       'pressure_first_finger', 'time_stamp_first', 'size_first_finger',\n",
            "       'x_coordinate_first_finger', 'y_coordinate_first_finger', 'distance',\n",
            "       'iskid'],\n",
            "      dtype='object')\n"
          ]
        }
      ],
      "source": [
        "print(data.columns)"
      ]
    },
    {
      "cell_type": "markdown",
      "metadata": {
        "id": "hSeQygKa6dDa"
      },
      "source": [
        "## 1.2. Unique values discovery"
      ]
    },
    {
      "cell_type": "markdown",
      "metadata": {
        "id": "omu29OSL6cz5"
      },
      "source": []
    },
    {
      "cell_type": "code",
      "execution_count": 4,
      "metadata": {
        "colab": {
          "base_uri": "https://localhost:8080/"
        },
        "id": "PbZxprGA-_j_",
        "outputId": "111cb9b0-0d0c-4069-c725-0b9228920554"
      },
      "outputs": [
        {
          "name": "stdout",
          "output_type": "stream",
          "text": [
            "Column 'gesture_id': [ 76  33  37  82  43 157 116 326  59 258 164  77 261  30 109  17 131  46\n",
            " 108 184 124  42  38 125  23  32 127  65  75 182 199 277 186 197 294 137\n",
            " 372 216 272 273 270 174  52 238 491  16 352 135   6 388  79 301 225 122\n",
            " 101 232 256  95 144 130 202 177  56 212 247  99 214  94 323 269 159 330\n",
            " 166 138 246  69 207  88 198 162 196  57 206 396 222 466  66 318   4 282\n",
            "  11 224  74 151 268  93 291 154 440 105  50 193 179 227 252 493 283  98\n",
            "  92   2 106 107 341 185 201 373  20  72 236  84  19 254  10 335 336 299\n",
            " 191 262 295  83  70 161 347 255  87 155 304  64 321 200 150 469 417 239\n",
            " 143 121  18 100 215 213 183 509 281 271 118  80 158  12 260  34 156 296\n",
            "  78 366 259  27  89  68 251   5 237 226 165  51 163 387 204 175  54 241\n",
            " 263 257 292 390  24 242 145 332  40 446  41 168 288 284 327 278 173  26\n",
            " 245  97 104 359 248 208 187 307  53 454 353 148  21 169 172 210  71 460\n",
            "   7 140 315 306 274 369 356  47 279 334 211 538 322 102 266  58 146 123\n",
            " 205 170 264 233 358  13 445 189 320 243 328 134  29  91  22 142 316  63\n",
            " 290 337 313 448 365  48 298 253  36 303  85  49 486   8 128 110 391 126\n",
            " 136 114 427 231 160 413 217 194 378 497 528  14  60 115 384 167 309 376\n",
            " 285 397  81  28 195 218 190 141 308 483 152 419 240 297 111  67 370 475\n",
            " 267 311 181   9 129 505 435 250 149 364 280 112  86 153 192 324 350  55\n",
            " 265 360 113 276 235 293  44 310 416 343 501  90  39 502 363 361 203  15\n",
            " 230 229 500  35 139 340 223 405 228 434 503  25 368  45  96 219 436   3\n",
            "  61 180 354 319 389 302 119 234 431 478 132 176 371 171 456 120  73 329\n",
            "  62 375 464 367 395 305 339 317 420 357 209 425 178 499 147 418 249 338\n",
            " 429 474 103 355 398 380 289 441 333 399 312 348 426 220 221 344 133  31\n",
            " 275 410 403 325 244 404 402 496 287 314 457 443 520 540 511 492 300 362\n",
            " 449 381 487 526 433 481 409 342 442 400 411 188 117 345 349 506 430   1\n",
            " 470 438 386 459 351 379 515 536 414 377 462 489 471 537 374 331 455 480\n",
            " 476 465 428 346 286 488 407 408 382 468 424 522 385 490 383 444 401 508\n",
            " 463 423 453 447 406 484 482 472 516 432 439 412 393 512 452 519 477 415\n",
            " 450 392 437 507 421 458 467 510 498 422 394 521 532 531 544 485 495 527\n",
            " 518 479 529 542 517 534 543 473 451 514 461 504 535 513 541 523 530 525\n",
            " 494 524 533 539]\n",
            "Column 'tap': ['Tap' 'Swipe' 'Unidentified' 'Scroll' 'TwoFinger' 'LongPress']\n",
            "Column 'app_name': [nan 'com.google.android.apps.photos' 'com.mehequanna.gestureplayground'\n",
            " 'com.google.android.youtube' 'com.google.android.googlequicksearchbox'\n",
            " 'com.touchlogger' 'com.google.android.apps.magazines'\n",
            " 'com.android.vending' 'com.google.android.gms' 'com.android.systemui'\n",
            " 'com.talkatone.android' 'com.isispoly.DemoDrawAPIN'\n",
            " 'com.google.android.calendar' 'com.appvv.os9launcherhd'\n",
            " 'com.google.android.GoogleCamera' 'com.android.chrome'\n",
            " 'com.android.documentsui' 'com.google.android.play.games']\n",
            "Column 'origin_first_finger': [False  True]\n",
            "Column 'pressure_first_finger': [ 42  30  39  43  56  27  44  70  22  64  66  45  57  21  28  46  25  61\n",
            "  51  31  33  67  59  38  77  32 102  34  29  80  62  24  69  60  41  50\n",
            "  40  49  26  82  54  23  37  48  52  84  58  87  20  65 109  53  68  47\n",
            "  74  55  35  17 113  72  79  36  81  98  85  75  94 103  89 127  19  73\n",
            "  76  71  78  15  88  96  83  63  18  86 114  93 106 115 107  99 104 112\n",
            "  12 100  13 111  90  16  97 120  91  92  14 108  10 126 118 122 117  95\n",
            " 135 123 119 110 105 101  11 116 131 129 134 130]\n",
            "Column 'time_stamp_first': [1504800509763 1504192489823 1507562393497 ... 1504193922230 1504798428016\n",
            " 1504195214474]\n",
            "Column 'size_first_finger': [ 4.  3.  7.  5.  2.  8.  1.  6. 12. 14.  9. 11. 10. 15. 17. 13. 16. nan\n",
            " 18.]\n",
            "Column 'x_coordinate_first_finger': [ 326  158 1192 ...   47   52 1383]\n",
            "Column 'y_coordinate_first_finger': [ 944 1535 1303 ...  834  852 2424]\n",
            "Column 'distance': [   0.         2313.13207578  955.43968936  904.46945775  848.59236386\n",
            "  858.65592643  857.58089997 1750.57761896 1135.35236821  738.24115301\n",
            " 1822.86368113  989.56000323  308.50769845 1319.27290581  806.23693788\n",
            " 1064.80608563  964.95388491  892.37884332 1212.09941836  231.3201245\n",
            " 1921.45986167  963.68718991  718.04456686 1317.43424883  928.06519168\n",
            " 1953.71773806 1247.02566132 1408.10688515  858.68737035   89.02246907\n",
            " 1390.88784595  965.12797079  813.47464619  751.32416439  799.62803853\n",
            " 1498.6770833  1034.8801863   769.3438763   757.31961549  925.60520742\n",
            "  488.61129745 1054.56768393 1776.92008824 1733.3603203   752.08044782\n",
            " 1207.2501812  1705.87602129  974.53629999  946.73385912 1303.00153492\n",
            "  281.9024654   983.39259708 1061.03722838  192.50974001  865.27510076\n",
            " 1012.11264195  447.94642537 1041.03073922  875.10513654 1249.29580164\n",
            "  468.65339004  874.34146648 1241.55144879 1511.02878861 1718.60321191\n",
            " 1511.1750395   587.57807992  834.84130228 1375.82920452  654.72818788\n",
            " 1155.21123609  879.12058331  806.63250616 1340.66028508  456.20718977\n",
            "  401.15458367  738.35018792 1431.13975558 1313.03084503  933.40773513\n",
            " 1437.1155138   484.9267986   816.95593516  797.23584967 1085.73891889\n",
            " 1928.20330878 1146.25128135  525.39223443  722.53027618  862.19545348\n",
            " 1982.00630675  984.99238576 1113.25109477  875.20111974  985.08730578\n",
            " 1081.06660294  966.53660045 1128.45558176   85.58621384 1862.38046596\n",
            " 1369.91970568 2898.61570409 2025.15826542  572.54519472 1169.05431867\n",
            "  611.07200885  633.29692878  862.24184542 1697.63894866  575.0313035\n",
            "  669.57971893 2427.40128533  961.42914456  933.44148183 2015.61950774\n",
            " 1517.52726499  263.71196408 2125.71987806]\n",
            "Column 'iskid': [1 0]\n"
          ]
        }
      ],
      "source": [
        "for column in data.columns:\n",
        "    # Print the column name and its unique values\n",
        "    print(f\"Column '{column}': {data[column].unique()}\")"
      ]
    },
    {
      "cell_type": "markdown",
      "metadata": {
        "id": "zGH2NdBk6iGi"
      },
      "source": [
        "# 2. Data preprocesssig"
      ]
    },
    {
      "cell_type": "markdown",
      "metadata": {
        "id": "hCHyoUaU_nZT"
      },
      "source": [
        "## 2.1. Data cleaning"
      ]
    },
    {
      "cell_type": "code",
      "execution_count": 5,
      "metadata": {
        "colab": {
          "base_uri": "https://localhost:8080/"
        },
        "id": "oCF_BFks_pRh",
        "outputId": "cde83fa8-a898-48fc-db55-b68bfa967ca1"
      },
      "outputs": [
        {
          "name": "stdout",
          "output_type": "stream",
          "text": [
            "NaN values in each column:\n",
            "gesture_id                      0\n",
            "tap                             0\n",
            "app_name                     6971\n",
            "origin_first_finger             0\n",
            "pressure_first_finger           0\n",
            "time_stamp_first                0\n",
            "size_first_finger               3\n",
            "x_coordinate_first_finger       0\n",
            "y_coordinate_first_finger       0\n",
            "distance                        0\n",
            "iskid                           0\n",
            "dtype: int64\n"
          ]
        }
      ],
      "source": [
        "# Count the number on nan values for each feature\n",
        "nan_counts = data.isna().sum()\n",
        "print(\"NaN values in each column:\")\n",
        "print(nan_counts)\n"
      ]
    },
    {
      "cell_type": "code",
      "execution_count": 6,
      "metadata": {
        "id": "z2faU6uI_vuv"
      },
      "outputs": [],
      "source": [
        "# Replace NaN values in the 'app name' column with 'Other'\n",
        "data['app_name'].fillna('Other', inplace=True)\n"
      ]
    },
    {
      "cell_type": "code",
      "execution_count": 7,
      "metadata": {
        "colab": {
          "base_uri": "https://localhost:8080/"
        },
        "id": "9aKf5QA9__kT",
        "outputId": "aa670378-324c-4430-bc49-12c3b79656f8"
      },
      "outputs": [
        {
          "name": "stdout",
          "output_type": "stream",
          "text": [
            "NaN values in each column:\n",
            "gesture_id                   0\n",
            "tap                          0\n",
            "app_name                     0\n",
            "origin_first_finger          0\n",
            "pressure_first_finger        0\n",
            "time_stamp_first             0\n",
            "size_first_finger            3\n",
            "x_coordinate_first_finger    0\n",
            "y_coordinate_first_finger    0\n",
            "distance                     0\n",
            "iskid                        0\n",
            "dtype: int64\n"
          ]
        }
      ],
      "source": [
        "# Count the number of NaN values in each column\n",
        "nan_counts = data.isna().sum()\n",
        "\n",
        "# Print the number of NaN values for each column\n",
        "print(\"NaN values in each column:\")\n",
        "print(nan_counts)"
      ]
    },
    {
      "cell_type": "code",
      "execution_count": 8,
      "metadata": {
        "colab": {
          "base_uri": "https://localhost:8080/"
        },
        "id": "5DnONdOpAH8r",
        "outputId": "4cec7c00-689c-4d5d-d4c7-580b0651e4bc"
      },
      "outputs": [
        {
          "name": "stdout",
          "output_type": "stream",
          "text": [
            "gesture_id                   0\n",
            "tap                          0\n",
            "app_name                     0\n",
            "origin_first_finger          0\n",
            "pressure_first_finger        0\n",
            "time_stamp_first             0\n",
            "size_first_finger            0\n",
            "x_coordinate_first_finger    0\n",
            "y_coordinate_first_finger    0\n",
            "distance                     0\n",
            "iskid                        0\n",
            "dtype: int64\n"
          ]
        }
      ],
      "source": [
        "# Drop null values\n",
        "data = data.dropna()\n",
        "print(data.isna().sum())\n"
      ]
    },
    {
      "cell_type": "markdown",
      "metadata": {
        "id": "CEy7-925-v5S"
      },
      "source": [
        "##2.2. Data Visualisation"
      ]
    },
    {
      "cell_type": "code",
      "execution_count": 9,
      "metadata": {
        "colab": {
          "base_uri": "https://localhost:8080/",
          "height": 472
        },
        "id": "B02PPm0q-772",
        "outputId": "5bd80b68-e260-4b4b-e5dd-bf364f6febdb"
      },
      "outputs": [
        {
          "data": {
            "image/png": "[encoded data removed]",
            "text/plain": [
              "<Figure size 640x480 with 1 Axes>"
            ]
          },
          "metadata": {},
          "output_type": "display_data"
        }
      ],
      "source": [
        "import seaborn as sns\n",
        "import matplotlib.pyplot as plt\n",
        "\n",
        "# Plot the distribution of the column 'iskid'\n",
        "sns.countplot(x='iskid', data=data)\n",
        "\n",
        "# Add labels and title\n",
        "plt.xlabel('Is Kid')\n",
        "plt.ylabel('Count')\n",
        "plt.title('Distribution of our target')\n",
        "\n",
        "# Show the plot\n",
        "plt.show()\n"
      ]
    },
    {
      "cell_type": "markdown",
      "metadata": {
        "id": "50p7OOO_67D2"
      },
      "source": [
        "* IsKiD is our target\n",
        "* If it has 1 ; it's a kid\n",
        "* else it's a parent"
      ]
    },
    {
      "cell_type": "code",
      "execution_count": 10,
      "metadata": {
        "colab": {
          "base_uri": "https://localhost:8080/"
        },
        "id": "oLWsaxS1AgMD",
        "outputId": "acca503d-9fe0-4c31-c7f9-0b5197fba967"
      },
      "outputs": [
        {
          "name": "stdout",
          "output_type": "stream",
          "text": [
            "Possible values of 'tap':\n",
            "tap\n",
            "Swipe           7036\n",
            "Tap             7028\n",
            "Unidentified    2660\n",
            "Scroll           198\n",
            "TwoFinger        116\n",
            "LongPress         31\n",
            "Name: count, dtype: int64\n",
            "\n",
            "Possible values of 'app_name':\n",
            "app_name\n",
            "Other                                      6970\n",
            "com.google.android.apps.photos             6843\n",
            "com.mehequanna.gestureplayground           1369\n",
            "com.google.android.youtube                 1056\n",
            "com.google.android.googlequicksearchbox     618\n",
            "com.touchlogger                             159\n",
            "com.android.systemui                         15\n",
            "com.android.vending                           7\n",
            "com.appvv.os9launcherhd                       7\n",
            "com.talkatone.android                         6\n",
            "com.google.android.gms                        5\n",
            "com.android.chrome                            4\n",
            "com.google.android.calendar                   3\n",
            "com.google.android.apps.magazines             2\n",
            "com.isispoly.DemoDrawAPIN                     2\n",
            "com.google.android.GoogleCamera               1\n",
            "com.android.documentsui                       1\n",
            "com.google.android.play.games                 1\n",
            "Name: count, dtype: int64\n",
            "\n",
            "Possible values of 'origin_first_finger':\n",
            "origin_first_finger\n",
            "True     10421\n",
            "False     6648\n",
            "Name: count, dtype: int64\n"
          ]
        }
      ],
      "source": [
        "# Print possible values of the 'tap' column\n",
        "print(\"Possible values of 'tap':\")\n",
        "print(data['tap'].value_counts())\n",
        "\n",
        "# Print possible values of the 'app_name' column\n",
        "print(\"\\nPossible values of 'app_name':\")\n",
        "print(data['app_name'].value_counts())\n",
        "\n",
        "# Print possible values of the 'origin_first_finger' column\n",
        "print(\"\\nPossible values of 'origin_first_finger':\")\n",
        "print(data['origin_first_finger'].value_counts())\n"
      ]
    },
    {
      "cell_type": "code",
      "execution_count": null,
      "metadata": {
        "id": "0Fo3vs6eDRtm"
      },
      "outputs": [],
      "source": [
        "#from sklearn.preprocessing import LabelEncoder\n",
        "\n",
        "# Make a copy of the original data\n",
        "#data_e = data.copy()\n",
        "\n",
        "# Initialize LabelEncoder\n",
        "#label_encoder = LabelEncoder()\n",
        "\n",
        "# Encode 'tap' column\n",
        "#data_e['tap'] = label_encoder.fit_transform(data_e['tap'])\n",
        "\n",
        "# Encode 'app_name' column\n",
        "#data_e['app_name'] = label_encoder.fit_transform(data_e['app_name'])\n",
        "#data_e['origin_first_finger'] = label_encoder.fit_transform(data_e['origin_first_finger'])\n"
      ]
    },
    {
      "cell_type": "markdown",
      "metadata": {
        "id": "Kb8bg0nV53W7"
      },
      "source": [
        "#Here we will try Encoding with dummy Methode"
      ]
    },
    {
      "cell_type": "code",
      "execution_count": 11,
      "metadata": {
        "id": "d7J1odsD52SN"
      },
      "outputs": [],
      "source": [
        "# Assuming data_e is your DataFrame containing the 'tap', 'origin_first_finger', and 'app_name' columns\n",
        "data_e = data.copy()\n",
        "\n",
        "# Import LabelEncoder\n",
        "from sklearn.preprocessing import LabelEncoder\n",
        "\n",
        "# Initialize LabelEncoder for 'app_name' column\n",
        "label_encoder = LabelEncoder()\n",
        "\n",
        "# Encode 'app_name' column with label encoding\n",
        "data_e['app_name'] = label_encoder.fit_transform(data_e['app_name'])\n",
        "\n",
        "# Encode 'app_name' column with label encoding\n",
        "data_e['tap'] = label_encoder.fit_transform(data_e['tap'])\n",
        "\n",
        "\n",
        "# Encode 'origin_first_finger' column with dummy encoding\n",
        "origin_first_finger_dummies = pd.get_dummies(data_e['origin_first_finger'], prefix='origin_first_finger', dtype='int')\n",
        "\n",
        "# Concatenate the dummy columns and the label encoded column with the original DataFrame\n",
        "data_e = pd.concat([data_e.drop(columns=['origin_first_finger']), origin_first_finger_dummies,], axis=1)\n"
      ]
    },
    {
      "cell_type": "code",
      "execution_count": 12,
      "metadata": {
        "colab": {
          "base_uri": "https://localhost:8080/",
          "height": 530
        },
        "id": "5K_2ebqOD1Tb",
        "outputId": "4cdcd24d-ef10-4306-d5cf-d180df2ecdec"
      },
      "outputs": [
        {
          "data": {
            "text/html": [
              "<div>\n",
              "<style scoped>\n",
              "    .dataframe tbody tr th:only-of-type {\n",
              "        vertical-align: middle;\n",
              "    }\n",
              "\n",
              "    .dataframe tbody tr th {\n",
              "        vertical-align: top;\n",
              "    }\n",
              "\n",
              "    .dataframe thead th {\n",
              "        text-align: right;\n",
              "    }\n",
              "</style>\n",
              "<table border=\"1\" class=\"dataframe\">\n",
              "  <thead>\n",
              "    <tr style=\"text-align: right;\">\n",
              "      <th></th>\n",
              "      <th>tap</th>\n",
              "      <th>app_name</th>\n",
              "      <th>pressure_first_finger</th>\n",
              "      <th>time_stamp_first</th>\n",
              "      <th>size_first_finger</th>\n",
              "      <th>x_coordinate_first_finger</th>\n",
              "      <th>y_coordinate_first_finger</th>\n",
              "      <th>distance</th>\n",
              "      <th>iskid</th>\n",
              "      <th>origin_first_finger_False</th>\n",
              "      <th>origin_first_finger_True</th>\n",
              "    </tr>\n",
              "  </thead>\n",
              "  <tbody>\n",
              "    <tr>\n",
              "      <th>0</th>\n",
              "      <td>3</td>\n",
              "      <td>0</td>\n",
              "      <td>42</td>\n",
              "      <td>1504800509763</td>\n",
              "      <td>4.0</td>\n",
              "      <td>326</td>\n",
              "      <td>944</td>\n",
              "      <td>0.0</td>\n",
              "      <td>1</td>\n",
              "      <td>1</td>\n",
              "      <td>0</td>\n",
              "    </tr>\n",
              "    <tr>\n",
              "      <th>1</th>\n",
              "      <td>3</td>\n",
              "      <td>0</td>\n",
              "      <td>30</td>\n",
              "      <td>1504192489823</td>\n",
              "      <td>4.0</td>\n",
              "      <td>158</td>\n",
              "      <td>1535</td>\n",
              "      <td>0.0</td>\n",
              "      <td>1</td>\n",
              "      <td>1</td>\n",
              "      <td>0</td>\n",
              "    </tr>\n",
              "    <tr>\n",
              "      <th>2</th>\n",
              "      <td>2</td>\n",
              "      <td>8</td>\n",
              "      <td>39</td>\n",
              "      <td>1507562393497</td>\n",
              "      <td>3.0</td>\n",
              "      <td>1192</td>\n",
              "      <td>1303</td>\n",
              "      <td>0.0</td>\n",
              "      <td>0</td>\n",
              "      <td>0</td>\n",
              "      <td>1</td>\n",
              "    </tr>\n",
              "    <tr>\n",
              "      <th>3</th>\n",
              "      <td>3</td>\n",
              "      <td>15</td>\n",
              "      <td>43</td>\n",
              "      <td>1504800515915</td>\n",
              "      <td>4.0</td>\n",
              "      <td>154</td>\n",
              "      <td>1491</td>\n",
              "      <td>0.0</td>\n",
              "      <td>1</td>\n",
              "      <td>1</td>\n",
              "      <td>0</td>\n",
              "    </tr>\n",
              "    <tr>\n",
              "      <th>4</th>\n",
              "      <td>2</td>\n",
              "      <td>8</td>\n",
              "      <td>56</td>\n",
              "      <td>1500219771288</td>\n",
              "      <td>7.0</td>\n",
              "      <td>624</td>\n",
              "      <td>1477</td>\n",
              "      <td>0.0</td>\n",
              "      <td>0</td>\n",
              "      <td>0</td>\n",
              "      <td>1</td>\n",
              "    </tr>\n",
              "    <tr>\n",
              "      <th>...</th>\n",
              "      <td>...</td>\n",
              "      <td>...</td>\n",
              "      <td>...</td>\n",
              "      <td>...</td>\n",
              "      <td>...</td>\n",
              "      <td>...</td>\n",
              "      <td>...</td>\n",
              "      <td>...</td>\n",
              "      <td>...</td>\n",
              "      <td>...</td>\n",
              "      <td>...</td>\n",
              "    </tr>\n",
              "    <tr>\n",
              "      <th>17067</th>\n",
              "      <td>2</td>\n",
              "      <td>8</td>\n",
              "      <td>25</td>\n",
              "      <td>1504204183097</td>\n",
              "      <td>2.0</td>\n",
              "      <td>952</td>\n",
              "      <td>1491</td>\n",
              "      <td>0.0</td>\n",
              "      <td>0</td>\n",
              "      <td>0</td>\n",
              "      <td>1</td>\n",
              "    </tr>\n",
              "    <tr>\n",
              "      <th>17068</th>\n",
              "      <td>3</td>\n",
              "      <td>15</td>\n",
              "      <td>55</td>\n",
              "      <td>1504720432749</td>\n",
              "      <td>6.0</td>\n",
              "      <td>588</td>\n",
              "      <td>1535</td>\n",
              "      <td>0.0</td>\n",
              "      <td>0</td>\n",
              "      <td>1</td>\n",
              "      <td>0</td>\n",
              "    </tr>\n",
              "    <tr>\n",
              "      <th>17069</th>\n",
              "      <td>2</td>\n",
              "      <td>8</td>\n",
              "      <td>55</td>\n",
              "      <td>1504193922230</td>\n",
              "      <td>5.0</td>\n",
              "      <td>919</td>\n",
              "      <td>1558</td>\n",
              "      <td>0.0</td>\n",
              "      <td>1</td>\n",
              "      <td>0</td>\n",
              "      <td>1</td>\n",
              "    </tr>\n",
              "    <tr>\n",
              "      <th>17070</th>\n",
              "      <td>3</td>\n",
              "      <td>8</td>\n",
              "      <td>26</td>\n",
              "      <td>1504798428016</td>\n",
              "      <td>2.0</td>\n",
              "      <td>1274</td>\n",
              "      <td>1479</td>\n",
              "      <td>0.0</td>\n",
              "      <td>1</td>\n",
              "      <td>0</td>\n",
              "      <td>1</td>\n",
              "    </tr>\n",
              "    <tr>\n",
              "      <th>17071</th>\n",
              "      <td>3</td>\n",
              "      <td>0</td>\n",
              "      <td>48</td>\n",
              "      <td>1504195214474</td>\n",
              "      <td>4.0</td>\n",
              "      <td>145</td>\n",
              "      <td>1535</td>\n",
              "      <td>0.0</td>\n",
              "      <td>1</td>\n",
              "      <td>1</td>\n",
              "      <td>0</td>\n",
              "    </tr>\n",
              "  </tbody>\n",
              "</table>\n",
              "<p>17069 rows × 11 columns</p>\n",
              "</div>"
            ],
            "text/plain": [
              "       tap  app_name  pressure_first_finger  time_stamp_first  \\\n",
              "0        3         0                     42     1504800509763   \n",
              "1        3         0                     30     1504192489823   \n",
              "2        2         8                     39     1507562393497   \n",
              "3        3        15                     43     1504800515915   \n",
              "4        2         8                     56     1500219771288   \n",
              "...    ...       ...                    ...               ...   \n",
              "17067    2         8                     25     1504204183097   \n",
              "17068    3        15                     55     1504720432749   \n",
              "17069    2         8                     55     1504193922230   \n",
              "17070    3         8                     26     1504798428016   \n",
              "17071    3         0                     48     1504195214474   \n",
              "\n",
              "       size_first_finger  x_coordinate_first_finger  \\\n",
              "0                    4.0                        326   \n",
              "1                    4.0                        158   \n",
              "2                    3.0                       1192   \n",
              "3                    4.0                        154   \n",
              "4                    7.0                        624   \n",
              "...                  ...                        ...   \n",
              "17067                2.0                        952   \n",
              "17068                6.0                        588   \n",
              "17069                5.0                        919   \n",
              "17070                2.0                       1274   \n",
              "17071                4.0                        145   \n",
              "\n",
              "       y_coordinate_first_finger  distance  iskid  origin_first_finger_False  \\\n",
              "0                            944       0.0      1                          1   \n",
              "1                           1535       0.0      1                          1   \n",
              "2                           1303       0.0      0                          0   \n",
              "3                           1491       0.0      1                          1   \n",
              "4                           1477       0.0      0                          0   \n",
              "...                          ...       ...    ...                        ...   \n",
              "17067                       1491       0.0      0                          0   \n",
              "17068                       1535       0.0      0                          1   \n",
              "17069                       1558       0.0      1                          0   \n",
              "17070                       1479       0.0      1                          0   \n",
              "17071                       1535       0.0      1                          1   \n",
              "\n",
              "       origin_first_finger_True  \n",
              "0                             0  \n",
              "1                             0  \n",
              "2                             1  \n",
              "3                             0  \n",
              "4                             1  \n",
              "...                         ...  \n",
              "17067                         1  \n",
              "17068                         0  \n",
              "17069                         1  \n",
              "17070                         1  \n",
              "17071                         0  \n",
              "\n",
              "[17069 rows x 11 columns]"
            ]
          },
          "metadata": {},
          "output_type": "display_data"
        },
        {
          "name": "stdout",
          "output_type": "stream",
          "text": [
            "Index(['tap', 'app_name', 'pressure_first_finger', 'time_stamp_first',\n",
            "       'size_first_finger', 'x_coordinate_first_finger',\n",
            "       'y_coordinate_first_finger', 'distance', 'iskid',\n",
            "       'origin_first_finger_False', 'origin_first_finger_True'],\n",
            "      dtype='object')\n"
          ]
        }
      ],
      "source": [
        "data_e.drop(columns=['gesture_id'], inplace=True)\n",
        "display(data_e)\n",
        "print(data_e.columns)"
      ]
    },
    {
      "cell_type": "markdown",
      "metadata": {
        "id": "MYB-L0UFLlNz"
      },
      "source": [
        "## Correlation matrix for quantitave Columns:"
      ]
    },
    {
      "cell_type": "code",
      "execution_count": 13,
      "metadata": {
        "id": "MiTIqpzsLsDs"
      },
      "outputs": [],
      "source": [
        "columns_to_select = [\n",
        "    'pressure_first_finger',\n",
        "    'size_first_finger',\n",
        "    'x_coordinate_first_finger',\n",
        "    'y_coordinate_first_finger',\n",
        "    'distance'\n",
        "]\n",
        "\n",
        "data_quan = data_e[columns_to_select]"
      ]
    },
    {
      "cell_type": "code",
      "execution_count": 14,
      "metadata": {
        "colab": {
          "base_uri": "https://localhost:8080/",
          "height": 856
        },
        "id": "7UBRhLMLENlJ",
        "outputId": "2e7bfa1c-6978-4ddd-b3f8-d1b28eb09dbd"
      },
      "outputs": [
        {
          "data": {
            "image/png": "[encoded data removed]",
            "text/plain": [
              "<Figure size 1000x800 with 2 Axes>"
            ]
          },
          "metadata": {},
          "output_type": "display_data"
        }
      ],
      "source": [
        "import seaborn as sns\n",
        "import matplotlib.pyplot as plt\n",
        "\n",
        "# Calculate the correlation matrix\n",
        "correlation_matrix = data_quan.corr()\n",
        "\n",
        "# Plot the correlation matrix as a heatmap\n",
        "plt.figure(figsize=(10, 8))\n",
        "sns.heatmap(correlation_matrix, annot=True, cmap='coolwarm', fmt=\".2f\", linewidths=0.5)\n",
        "plt.title('Correlation Matrix')\n",
        "plt.show()\n"
      ]
    },
    {
      "cell_type": "code",
      "execution_count": 15,
      "metadata": {
        "colab": {
          "base_uri": "https://localhost:8080/"
        },
        "id": "8wiZt55OC7yj",
        "outputId": "f707b766-494a-48ba-fef7-0319aaf4bc4d"
      },
      "outputs": [
        {
          "name": "stdout",
          "output_type": "stream",
          "text": [
            "   tap  app_name  pressure_first_finger  time_stamp_first  size_first_finger  \\\n",
            "0    3         0                     42     1504800509763                4.0   \n",
            "1    3         0                     30     1504192489823                4.0   \n",
            "2    2         8                     39     1507562393497                3.0   \n",
            "3    3        15                     43     1504800515915                4.0   \n",
            "4    2         8                     56     1500219771288                7.0   \n",
            "\n",
            "   x_coordinate_first_finger  y_coordinate_first_finger  distance  iskid  \\\n",
            "0                        326                        944       0.0      1   \n",
            "1                        158                       1535       0.0      1   \n",
            "2                       1192                       1303       0.0      0   \n",
            "3                        154                       1491       0.0      1   \n",
            "4                        624                       1477       0.0      0   \n",
            "\n",
            "   origin_first_finger_False  origin_first_finger_True  \n",
            "0                          1                         0  \n",
            "1                          1                         0  \n",
            "2                          0                         1  \n",
            "3                          1                         0  \n",
            "4                          0                         1  \n"
          ]
        }
      ],
      "source": [
        "print(data_e.head())"
      ]
    },
    {
      "cell_type": "markdown",
      "metadata": {
        "id": "ownlXi7IEpMe"
      },
      "source": [
        "##3-Machine Learning :"
      ]
    },
    {
      "cell_type": "code",
      "execution_count": 16,
      "metadata": {
        "id": "e4d_KJQkFczq"
      },
      "outputs": [],
      "source": [
        "from sklearn.model_selection import train_test_split\n",
        "from sklearn.neighbors import KNeighborsClassifier\n",
        "from sklearn.svm import SVC\n",
        "from sklearn.metrics import accuracy_score\n",
        "\n",
        "# Split data into features (X) and target variable (y)\n",
        "X = data_e.drop(columns=['iskid','time_stamp_first'])\n",
        "y = data_e['iskid']"
      ]
    },
    {
      "cell_type": "code",
      "execution_count": 18,
      "metadata": {
        "id": "EFqF27-_FgFr"
      },
      "outputs": [],
      "source": [
        "from sklearn.preprocessing import StandardScaler\n",
        "# Standardize numerical features\n",
        "scaler = StandardScaler()\n",
        "# Split data into training and testing sets\n",
        "X_train, X_test, y_train, y_test = train_test_split(X, y, test_size=0.2, random_state=42)\n",
        "X_train_scaled = scaler.fit_transform(X_train)\n",
        "X_test_scaled = scaler.transform(X_test)"
      ]
    },
    {
      "cell_type": "code",
      "execution_count": 21,
      "metadata": {
        "colab": {
          "base_uri": "https://localhost:8080/"
        },
        "id": "74GQ8N1nExvC",
        "outputId": "ccba2764-fb70-44f7-e637-dc1a433d5877"
      },
      "outputs": [
        {
          "name": "stdout",
          "output_type": "stream",
          "text": [
            "K-Nearest Neighbors Accuracy: 0.6028119507908611\n",
            "\n",
            "Confusion Matrix for K-Nearest Neighbors:\n",
            "          Predicted 0  Predicted 1\n",
            "Actual 0          862          680\n",
            "Actual 1          676         1196\n",
            "\n",
            "\n",
            "Random Forest Accuracy: 0.6241944932630346\n",
            "\n",
            "Confusion Matrix for Random Forest:\n",
            "          Predicted 0  Predicted 1\n",
            "Actual 0          866          676\n",
            "Actual 1          607         1265\n",
            "\n",
            "\n",
            "Decision Tree Accuracy: 0.5808435852372583\n",
            "\n",
            "Confusion Matrix for Decision Tree:\n",
            "          Predicted 0  Predicted 1\n",
            "Actual 0          856          686\n",
            "Actual 1          745         1127\n",
            "\n",
            "\n",
            "Support Vector Machine (SVM) Accuracy: 0.6350322202694786\n",
            "\n",
            "Confusion Matrix for Support Vector Machine (SVM):\n",
            "          Predicted 0  Predicted 1\n",
            "Actual 0          751          791\n",
            "Actual 1          455         1417\n",
            "\n",
            "\n"
          ]
        }
      ],
      "source": [
        "from sklearn.neighbors import KNeighborsClassifier\n",
        "from sklearn.ensemble import RandomForestClassifier\n",
        "from sklearn.tree import DecisionTreeClassifier\n",
        "from sklearn.svm import SVC\n",
        "from sklearn.metrics import accuracy_score, confusion_matrix\n",
        "import pandas as pd\n",
        "\n",
        "# Train K-Nearest Neighbors model\n",
        "knn = KNeighborsClassifier()\n",
        "knn.fit(X_train_scaled, y_train)\n",
        "y_pred_knn = knn.predict(X_test_scaled)\n",
        "accuracy_knn = accuracy_score(y_test, y_pred_knn)\n",
        "print(\"K-Nearest Neighbors Accuracy:\", accuracy_knn)\n",
        "\n",
        "# Print confusion matrix for K-Nearest Neighbors\n",
        "cm_knn = confusion_matrix(y_test, y_pred_knn)\n",
        "print(\"\\nConfusion Matrix for K-Nearest Neighbors:\")\n",
        "print(pd.DataFrame(cm_knn, index=['Actual 0', 'Actual 1'], columns=['Predicted 0', 'Predicted 1']))\n",
        "print(\"\\n\")\n",
        "\n",
        "# Train Random Forest model\n",
        "rf = RandomForestClassifier(random_state=42)\n",
        "rf.fit(X_train_scaled, y_train)\n",
        "y_pred_rf = rf.predict(X_test_scaled)\n",
        "accuracy_rf = accuracy_score(y_test, y_pred_rf)\n",
        "print(\"Random Forest Accuracy:\", accuracy_rf)\n",
        "\n",
        "# Print confusion matrix for Random Forest\n",
        "cm_rf = confusion_matrix(y_test, y_pred_rf)\n",
        "print(\"\\nConfusion Matrix for Random Forest:\")\n",
        "print(pd.DataFrame(cm_rf, index=['Actual 0', 'Actual 1'], columns=['Predicted 0', 'Predicted 1']))\n",
        "print(\"\\n\")\n",
        "\n",
        "# Train Decision Tree model\n",
        "tree = DecisionTreeClassifier(random_state=42)\n",
        "tree.fit(X_train_scaled, y_train)\n",
        "y_pred_dt = tree.predict(X_test_scaled)\n",
        "accuracy_dt = accuracy_score(y_test, y_pred_dt)\n",
        "print(\"Decision Tree Accuracy:\", accuracy_dt)\n",
        "\n",
        "# Print confusion matrix for Decision Tree\n",
        "cm_dt = confusion_matrix(y_test, y_pred_dt)\n",
        "print(\"\\nConfusion Matrix for Decision Tree:\")\n",
        "print(pd.DataFrame(cm_dt, index=['Actual 0', 'Actual 1'], columns=['Predicted 0', 'Predicted 1']))\n",
        "print(\"\\n\")\n",
        "\n",
        "# Train Support Vector Machine (SVM) model\n",
        "svm = SVC(random_state=42)\n",
        "svm.fit(X_train_scaled, y_train)\n",
        "y_pred_svm = svm.predict(X_test_scaled)\n",
        "accuracy_svm = accuracy_score(y_test, y_pred_svm)\n",
        "print(\"Support Vector Machine (SVM) Accuracy:\", accuracy_svm)\n",
        "\n",
        "# Print confusion matrix for SVM\n",
        "cm_svm = confusion_matrix(y_test, y_pred_svm)\n",
        "print(\"\\nConfusion Matrix for Support Vector Machine (SVM):\")\n",
        "print(pd.DataFrame(cm_svm, index=['Actual 0', 'Actual 1'], columns=['Predicted 0', 'Predicted 1']))\n",
        "print(\"\\n\")\n"
      ]
    },
    {
      "cell_type": "markdown",
      "metadata": {
        "id": "zNRJgcnS1JE2"
      },
      "source": [
        "##4- Training with Cross Validation Methode"
      ]
    },
    {
      "cell_type": "code",
      "execution_count": 22,
      "metadata": {
        "colab": {
          "base_uri": "https://localhost:8080/"
        },
        "id": "gUJNDuKh1N_C",
        "outputId": "11e1c271-c07d-4483-a411-ebecb6a86bfb"
      },
      "outputs": [
        {
          "name": "stdout",
          "output_type": "stream",
          "text": [
            "K-Nearest Neighbors Cross-Validation Accuracies: [0.58659832 0.59318931 0.58110582 0.58513365 0.58183815]\n",
            "Mean Accuracy: 0.5855730501647748\n",
            "\n",
            "Random Forest Cross-Validation Accuracies: [0.62101794 0.63346759 0.61552545 0.60746979 0.60930062]\n",
            "Mean Accuracy: 0.6173562797510069\n",
            "\n",
            "Decision Tree Cross-Validation Accuracies: [0.57414866 0.56316368 0.58110582 0.54815086 0.56316368]\n",
            "Mean Accuracy: 0.565946539729037\n"
          ]
        }
      ],
      "source": [
        "from sklearn.metrics import accuracy_score\n",
        "from sklearn.model_selection import cross_val_score\n",
        "# Train K-Nearest Neighbors model with cross-validation\n",
        "knn_cv = KNeighborsClassifier()\n",
        "accuracy_knn_cv = cross_val_score(knn_cv, X_train_scaled, y_train, cv=5, scoring='accuracy')\n",
        "print(\"K-Nearest Neighbors Cross-Validation Accuracies:\", accuracy_knn_cv)\n",
        "print(\"Mean Accuracy:\", accuracy_knn_cv.mean())\n",
        "\n",
        "# Train Random Forest model with cross-validation\n",
        "rf_cv = RandomForestClassifier(random_state=42)\n",
        "accuracy_rf_cv = cross_val_score(rf_cv, X_train_scaled, y_train, cv=5, scoring='accuracy')\n",
        "print(\"\\nRandom Forest Cross-Validation Accuracies:\", accuracy_rf_cv)\n",
        "print(\"Mean Accuracy:\", accuracy_rf_cv.mean())\n",
        "\n",
        "# Train Decision Tree model with cross-validation\n",
        "dt_cv = DecisionTreeClassifier(random_state=42)\n",
        "accuracy_dt_cv = cross_val_score(dt_cv, X_train_scaled, y_train, cv=5, scoring='accuracy')\n",
        "print(\"\\nDecision Tree Cross-Validation Accuracies:\", accuracy_dt_cv)\n",
        "print(\"Mean Accuracy:\", accuracy_dt_cv.mean())\n"
      ]
    },
    {
      "cell_type": "code",
      "execution_count": null,
      "metadata": {
        "colab": {
          "base_uri": "https://localhost:8080/"
        },
        "id": "oUY2NDxgRkpb",
        "outputId": "9febc820-a464-4d47-d756-270cb479b4ea"
      },
      "outputs": [
        {
          "name": "stdout",
          "output_type": "stream",
          "text": [
            "K-Nearest Neighbors Cross-Validation Accuracies: [0.58000732 0.58733065 0.59099231 0.574881   0.56755767]\n",
            "Mean Accuracy: 0.5801537898205785\n",
            "\n",
            "Random Forest Cross-Validation Accuracies: [0.61589161 0.61003295 0.61918711 0.5975833  0.59245698]\n",
            "Mean Accuracy: 0.6070303917978761\n",
            "\n",
            "Decision Tree Cross-Validation Accuracies: [0.56792384 0.5671915  0.570487   0.55767118 0.55474185]\n",
            "Mean Accuracy: 0.5636030757964117\n"
          ]
        }
      ],
      "source": [
        "from sklearn.neighbors import KNeighborsClassifier\n",
        "from sklearn.ensemble import RandomForestClassifier\n",
        "from sklearn.tree import DecisionTreeClassifier\n",
        "from sklearn.svm import SVC\n",
        "from sklearn.metrics import accuracy_score\n",
        "from sklearn.model_selection import cross_val_score\n",
        "import pandas as pd\n",
        "\n",
        "# Define your features X and target variable y\n",
        "\n",
        "# Perform feature scaling if necessary\n",
        "\n",
        "# Train K-Nearest Neighbors model with cross-validation\n",
        "knn_cv = KNeighborsClassifier()\n",
        "accuracy_knn_cv = cross_val_score(knn_cv, X_train_scaled, y_train, cv=5, scoring='accuracy')\n",
        "print(\"K-Nearest Neighbors Cross-Validation Accuracies:\", accuracy_knn_cv)\n",
        "print(\"Mean Accuracy:\", accuracy_knn_cv.mean())\n",
        "\n",
        "# Train Random Forest model with cross-validation\n",
        "rf_cv = RandomForestClassifier(random_state=42)\n",
        "accuracy_rf_cv = cross_val_score(rf_cv, X_train_scaled, y_train, cv=5, scoring='accuracy')\n",
        "print(\"\\nRandom Forest Cross-Validation Accuracies:\", accuracy_rf_cv)\n",
        "print(\"Mean Accuracy:\", accuracy_rf_cv.mean())\n",
        "\n",
        "# Train Decision Tree model with cross-validation\n",
        "dt_cv = DecisionTreeClassifier(random_state=42)\n",
        "accuracy_dt_cv = cross_val_score(dt_cv, X_train_scaled, y_train, cv=5, scoring='accuracy')\n",
        "print(\"\\nDecision Tree Cross-Validation Accuracies:\", accuracy_dt_cv)\n",
        "print(\"Mean Accuracy:\", accuracy_dt_cv.mean())\n"
      ]
    },
    {
      "cell_type": "code",
      "execution_count": 23,
      "metadata": {
        "colab": {
          "base_uri": "https://localhost:8080/"
        },
        "id": "prYJh9W_BEBY",
        "outputId": "ce54f40f-8db8-4146-b428-033d884dae10"
      },
      "outputs": [
        {
          "name": "stdout",
          "output_type": "stream",
          "text": [
            "Index(['tap', 'app_name', 'pressure_first_finger', 'time_stamp_first',\n",
            "       'size_first_finger', 'x_coordinate_first_finger',\n",
            "       'y_coordinate_first_finger', 'distance', 'iskid',\n",
            "       'origin_first_finger_False', 'origin_first_finger_True'],\n",
            "      dtype='object')\n"
          ]
        }
      ],
      "source": [
        "print(data_e.columns)"
      ]
    },
    {
      "cell_type": "markdown",
      "metadata": {
        "id": "e-blfemAlIGS"
      },
      "source": [
        "##Neural Network Model"
      ]
    },
    {
      "cell_type": "code",
      "execution_count": 27,
      "metadata": {
        "colab": {
          "base_uri": "https://localhost:8080/"
        },
        "id": "NQh48sfWlLcs",
        "outputId": "e38c79aa-6096-4de2-cfbb-96dbdef4bd54"
      },
      "outputs": [
        {
          "name": "stdout",
          "output_type": "stream",
          "text": [
            "Epoch 1/20\n",
            "342/342 [==============================] - 6s 8ms/step - loss: 0.6741 - accuracy: 0.5861 - val_loss: 0.6643 - val_accuracy: 0.6042\n",
            "Epoch 2/20\n",
            "342/342 [==============================] - 2s 7ms/step - loss: 0.6610 - accuracy: 0.6098 - val_loss: 0.6580 - val_accuracy: 0.6097\n",
            "Epoch 3/20\n",
            "342/342 [==============================] - 2s 7ms/step - loss: 0.6537 - accuracy: 0.6144 - val_loss: 0.6537 - val_accuracy: 0.6108\n",
            "Epoch 4/20\n",
            "342/342 [==============================] - 2s 6ms/step - loss: 0.6480 - accuracy: 0.6152 - val_loss: 0.6522 - val_accuracy: 0.6086\n",
            "Epoch 5/20\n",
            "342/342 [==============================] - 2s 7ms/step - loss: 0.6447 - accuracy: 0.6207 - val_loss: 0.6485 - val_accuracy: 0.6126\n",
            "Epoch 6/20\n",
            "342/342 [==============================] - 2s 7ms/step - loss: 0.6424 - accuracy: 0.6252 - val_loss: 0.6467 - val_accuracy: 0.6258\n",
            "Epoch 7/20\n",
            "342/342 [==============================] - 2s 7ms/step - loss: 0.6397 - accuracy: 0.6247 - val_loss: 0.6508 - val_accuracy: 0.6232\n",
            "Epoch 8/20\n",
            "342/342 [==============================] - 2s 7ms/step - loss: 0.6385 - accuracy: 0.6263 - val_loss: 0.6459 - val_accuracy: 0.6166\n",
            "Epoch 9/20\n",
            "342/342 [==============================] - 2s 7ms/step - loss: 0.6356 - accuracy: 0.6320 - val_loss: 0.6490 - val_accuracy: 0.6130\n",
            "Epoch 10/20\n",
            "342/342 [==============================] - 2s 7ms/step - loss: 0.6329 - accuracy: 0.6341 - val_loss: 0.6506 - val_accuracy: 0.6155\n",
            "Epoch 11/20\n",
            "342/342 [==============================] - 2s 7ms/step - loss: 0.6327 - accuracy: 0.6336 - val_loss: 0.6455 - val_accuracy: 0.6152\n",
            "Epoch 12/20\n",
            "342/342 [==============================] - 2s 7ms/step - loss: 0.6309 - accuracy: 0.6391 - val_loss: 0.6460 - val_accuracy: 0.6228\n",
            "Epoch 13/20\n",
            "342/342 [==============================] - 2s 7ms/step - loss: 0.6308 - accuracy: 0.6352 - val_loss: 0.6496 - val_accuracy: 0.6148\n",
            "Epoch 14/20\n",
            "342/342 [==============================] - 2s 7ms/step - loss: 0.6282 - accuracy: 0.6355 - val_loss: 0.6438 - val_accuracy: 0.6221\n",
            "Epoch 15/20\n",
            "342/342 [==============================] - 2s 7ms/step - loss: 0.6258 - accuracy: 0.6384 - val_loss: 0.6507 - val_accuracy: 0.6082\n",
            "Epoch 16/20\n",
            "342/342 [==============================] - 2s 7ms/step - loss: 0.6263 - accuracy: 0.6434 - val_loss: 0.6469 - val_accuracy: 0.6276\n",
            "Epoch 17/20\n",
            "342/342 [==============================] - 2s 6ms/step - loss: 0.6247 - accuracy: 0.6443 - val_loss: 0.6475 - val_accuracy: 0.6144\n",
            "Epoch 18/20\n",
            "342/342 [==============================] - 2s 7ms/step - loss: 0.6229 - accuracy: 0.6429 - val_loss: 0.6473 - val_accuracy: 0.6247\n",
            "Epoch 19/20\n",
            "342/342 [==============================] - 2s 7ms/step - loss: 0.6221 - accuracy: 0.6466 - val_loss: 0.6538 - val_accuracy: 0.6152\n",
            "Epoch 20/20\n",
            "342/342 [==============================] - 2s 7ms/step - loss: 0.6223 - accuracy: 0.6385 - val_loss: 0.6463 - val_accuracy: 0.6221\n",
            "107/107 [==============================] - 0s 4ms/step - loss: 0.6382 - accuracy: 0.6292\n",
            "Test Loss: 0.6382112503051758, Test Accuracy: 0.629173994064331\n",
            "107/107 [==============================] - 1s 5ms/step - loss: 0.6412 - accuracy: 0.6286\n",
            "Best Model Test Loss: 0.6411856412887573, Best Model Test Accuracy: 0.6285881400108337\n"
          ]
        }
      ],
      "source": [
        "import numpy as np\n",
        "import pandas as pd\n",
        "from sklearn.model_selection import train_test_split\n",
        "from sklearn.preprocessing import StandardScaler\n",
        "import tensorflow as tf\n",
        "from tensorflow.keras.models import Sequential\n",
        "from tensorflow.keras.layers import Dense\n",
        "from tensorflow.keras.callbacks import ModelCheckpoint\n",
        "\n",
        "\n",
        "# Build the neural network model\n",
        "model = Sequential([\n",
        "    Dense(64, activation='relu', input_shape=(X_train_scaled.shape[1],)),\n",
        "    Dense(32, activation='relu'),\n",
        "    Dense(32, activation='relu'),\n",
        "    Dense(32, activation='relu'),\n",
        "    Dense(1, activation='sigmoid')  # Binary classification, so use sigmoid activation\n",
        "])\n",
        "\n",
        "# Compile the model\n",
        "model.compile(optimizer='adam', loss='binary_crossentropy', metrics=['accuracy'])\n",
        "\n",
        "# Define the checkpoint callback\n",
        "checkpoint_cb = ModelCheckpoint('best_model.h5', save_best_only=True, monitor='val_accuracy', mode='max')\n",
        "\n",
        "# Train the model with the checkpoint callback\n",
        "history = model.fit(X_train_scaled, y_train, epochs=20, batch_size=32, validation_split=0.2, callbacks=[checkpoint_cb])\n",
        "\n",
        "# Evaluate the model\n",
        "loss, accuracy = model.evaluate(X_test_scaled, y_test)\n",
        "print(f'Test Loss: {loss}, Test Accuracy: {accuracy}')\n",
        "\n",
        "# Load the best model saved during training\n",
        "best_model = tf.keras.models.load_model('best_model.h5')\n",
        "\n",
        "# Evaluate the best model\n",
        "best_loss, best_accuracy = best_model.evaluate(X_test_scaled, y_test)\n",
        "print(f'Best Model Test Loss: {best_loss}, Best Model Test Accuracy: {best_accuracy}')\n"
      ]
    },
    {
      "cell_type": "markdown",
      "metadata": {
        "id": "YQ0YlNUPEM7T"
      },
      "source": [
        "## Model Deployment"
      ]
    },
    {
      "cell_type": "code",
      "execution_count": null,
      "metadata": {
        "colab": {
          "base_uri": "https://localhost:8080/"
        },
        "id": "FS12s7kOHcL8",
        "outputId": "5844283b-857f-486b-9d32-b02e1f684598"
      },
      "outputs": [
        {
          "name": "stdout",
          "output_type": "stream",
          "text": [
            "   tap  pressure_first_finger  size_first_finger  x_coordinate_first_finger  \\\n",
            "0    3                     42                4.0                        326   \n",
            "\n",
            "   y_coordinate_first_finger  distance  origin_first_finger_False  \\\n",
            "0                        944       0.0                          1   \n",
            "\n",
            "   origin_first_finger_True  iskid  \n",
            "0                         0      1  \n"
          ]
        }
      ],
      "source": [
        "# Assuming data_e is your DataFrame containing the columns mentioned\n",
        "data_e = data_e[['tap', 'pressure_first_finger', 'size_first_finger',\n",
        "                 'x_coordinate_first_finger', 'y_coordinate_first_finger', 'distance',\n",
        "                 'origin_first_finger_False', 'origin_first_finger_True', 'iskid']]\n",
        "print(data_e.head(1))"
      ]
    },
    {
      "cell_type": "code",
      "execution_count": null,
      "metadata": {
        "id": "Pv32zewjJExB"
      },
      "outputs": [],
      "source": [
        "import pickle\n",
        "pickle.dump(dt_cv,open('tree.pickle',\"wb\"))"
      ]
    },
    {
      "cell_type": "code",
      "execution_count": null,
      "metadata": {
        "colab": {
          "base_uri": "https://localhost:8080/"
        },
        "id": "0rypwVoOWhn9",
        "outputId": "b4e89f51-bdd5-41c5-95c4-5379d969774f"
      },
      "outputs": [
        {
          "name": "stdout",
          "output_type": "stream",
          "text": [
            "<class 'pandas.core.frame.DataFrame'>\n",
            "Index: 17069 entries, 0 to 17071\n",
            "Data columns (total 9 columns):\n",
            " #   Column                     Non-Null Count  Dtype  \n",
            "---  ------                     --------------  -----  \n",
            " 0   tap                        17069 non-null  int64  \n",
            " 1   pressure_first_finger      17069 non-null  int64  \n",
            " 2   size_first_finger          17069 non-null  float64\n",
            " 3   x_coordinate_first_finger  17069 non-null  int64  \n",
            " 4   y_coordinate_first_finger  17069 non-null  int64  \n",
            " 5   distance                   17069 non-null  float64\n",
            " 6   origin_first_finger_False  17069 non-null  int64  \n",
            " 7   origin_first_finger_True   17069 non-null  int64  \n",
            " 8   iskid                      17069 non-null  int64  \n",
            "dtypes: float64(2), int64(7)\n",
            "memory usage: 1.3 MB\n",
            "None\n"
          ]
        }
      ],
      "source": [
        "print(data_e.info())"
      ]
    },
    {
      "cell_type": "code",
      "execution_count": null,
      "metadata": {
        "colab": {
          "base_uri": "https://localhost:8080/"
        },
        "id": "Rne--Dt5K0A0",
        "outputId": "9f3f2218-bab9-4398-d1b3-1b7fbc5df16c"
      },
      "outputs": [
        {
          "name": "stdout",
          "output_type": "stream",
          "text": [
            "   tap  pressure_first_finger  size_first_finger  x_coordinate_first_finger  \\\n",
            "0    3                     42                4.0                        326   \n",
            "1    3                     30                4.0                        158   \n",
            "2    2                     39                3.0                       1192   \n",
            "3    3                     43                4.0                        154   \n",
            "4    2                     56                7.0                        624   \n",
            "\n",
            "   y_coordinate_first_finger  distance  origin_first_finger_False  \\\n",
            "0                        944       0.0                          1   \n",
            "1                       1535       0.0                          1   \n",
            "2                       1303       0.0                          0   \n",
            "3                       1491       0.0                          1   \n",
            "4                       1477       0.0                          0   \n",
            "\n",
            "   origin_first_finger_True  iskid  \n",
            "0                         0      1  \n",
            "1                         0      1  \n",
            "2                         1      0  \n",
            "3                         0      1  \n",
            "4                         1      0  \n"
          ]
        }
      ],
      "source": [
        "print(data_e.head())"
      ]
    }
  ],
  "metadata": {
    "colab": {
      "provenance": []
    },
    "kernelspec": {
      "display_name": "Python 3",
      "name": "python3"
    },
    "language_info": {
      "codemirror_mode": {
        "name": "ipython",
        "version": 3
      },
      "file_extension": ".py",
      "mimetype": "text/x-python",
      "name": "python",
      "nbconvert_exporter": "python",
      "pygments_lexer": "ipython3",
      "version": "3.10.13"
    }
  },
  "nbformat": 4,
  "nbformat_minor": 0
}
