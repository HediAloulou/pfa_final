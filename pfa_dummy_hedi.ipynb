{
  "cells": [
    {
      "cell_type": "code",
      "execution_count": 1,
      "metadata": {
        "colab": {
          "base_uri": "https://localhost:8080/",
          "height": 38
        },
        "id": "ggU3BdM34T9z",
        "outputId": "ae35b432-6726-4c43-98df-f0ca44a0fd1a"
      },
      "outputs": [],
      "source": [
        "#from google.colab import files\n",
        "#uploaded = files.upload()\n"
      ]
    },
    {
      "cell_type": "markdown",
      "metadata": {
        "id": "PsZXKbb_-tBy"
      },
      "source": [
        "#1. Data description"
      ]
    },
    {
      "cell_type": "code",
      "execution_count": 2,
      "metadata": {
        "colab": {
          "base_uri": "https://localhost:8080/",
          "height": 539
        },
        "id": "ax92wOR4-WM0",
        "outputId": "131ae469-ec36-4a1c-8a8c-7867da88246b"
      },
      "outputs": [
        {
          "data": {
            "text/html": [
              "<div>\n",
              "<style scoped>\n",
              "    .dataframe tbody tr th:only-of-type {\n",
              "        vertical-align: middle;\n",
              "    }\n",
              "\n",
              "    .dataframe tbody tr th {\n",
              "        vertical-align: top;\n",
              "    }\n",
              "\n",
              "    .dataframe thead th {\n",
              "        text-align: right;\n",
              "    }\n",
              "</style>\n",
              "<table border=\"1\" class=\"dataframe\">\n",
              "  <thead>\n",
              "    <tr style=\"text-align: right;\">\n",
              "      <th></th>\n",
              "      <th>gesture_id</th>\n",
              "      <th>tap</th>\n",
              "      <th>app_name</th>\n",
              "      <th>origin_first_finger</th>\n",
              "      <th>pressure_first_finger</th>\n",
              "      <th>time_stamp_first</th>\n",
              "      <th>size_first_finger</th>\n",
              "      <th>x_coordinate_first_finger</th>\n",
              "      <th>y_coordinate_first_finger</th>\n",
              "      <th>distance</th>\n",
              "      <th>iskid</th>\n",
              "    </tr>\n",
              "  </thead>\n",
              "  <tbody>\n",
              "    <tr>\n",
              "      <th>0</th>\n",
              "      <td>76</td>\n",
              "      <td>Tap</td>\n",
              "      <td>NaN</td>\n",
              "      <td>False</td>\n",
              "      <td>42</td>\n",
              "      <td>1504800509763</td>\n",
              "      <td>4.0</td>\n",
              "      <td>326</td>\n",
              "      <td>944</td>\n",
              "      <td>0.0</td>\n",
              "      <td>1</td>\n",
              "    </tr>\n",
              "    <tr>\n",
              "      <th>1</th>\n",
              "      <td>33</td>\n",
              "      <td>Tap</td>\n",
              "      <td>NaN</td>\n",
              "      <td>False</td>\n",
              "      <td>30</td>\n",
              "      <td>1504192489823</td>\n",
              "      <td>4.0</td>\n",
              "      <td>158</td>\n",
              "      <td>1535</td>\n",
              "      <td>0.0</td>\n",
              "      <td>1</td>\n",
              "    </tr>\n",
              "    <tr>\n",
              "      <th>2</th>\n",
              "      <td>37</td>\n",
              "      <td>Swipe</td>\n",
              "      <td>com.google.android.apps.photos</td>\n",
              "      <td>True</td>\n",
              "      <td>39</td>\n",
              "      <td>1507562393497</td>\n",
              "      <td>3.0</td>\n",
              "      <td>1192</td>\n",
              "      <td>1303</td>\n",
              "      <td>0.0</td>\n",
              "      <td>0</td>\n",
              "    </tr>\n",
              "    <tr>\n",
              "      <th>3</th>\n",
              "      <td>82</td>\n",
              "      <td>Tap</td>\n",
              "      <td>com.mehequanna.gestureplayground</td>\n",
              "      <td>False</td>\n",
              "      <td>43</td>\n",
              "      <td>1504800515915</td>\n",
              "      <td>4.0</td>\n",
              "      <td>154</td>\n",
              "      <td>1491</td>\n",
              "      <td>0.0</td>\n",
              "      <td>1</td>\n",
              "    </tr>\n",
              "    <tr>\n",
              "      <th>4</th>\n",
              "      <td>43</td>\n",
              "      <td>Swipe</td>\n",
              "      <td>com.google.android.apps.photos</td>\n",
              "      <td>True</td>\n",
              "      <td>56</td>\n",
              "      <td>1500219771288</td>\n",
              "      <td>7.0</td>\n",
              "      <td>624</td>\n",
              "      <td>1477</td>\n",
              "      <td>0.0</td>\n",
              "      <td>0</td>\n",
              "    </tr>\n",
              "  </tbody>\n",
              "</table>\n",
              "</div>"
            ],
            "text/plain": [
              "   gesture_id    tap                          app_name  origin_first_finger  \\\n",
              "0          76    Tap                               NaN                False   \n",
              "1          33    Tap                               NaN                False   \n",
              "2          37  Swipe    com.google.android.apps.photos                 True   \n",
              "3          82    Tap  com.mehequanna.gestureplayground                False   \n",
              "4          43  Swipe    com.google.android.apps.photos                 True   \n",
              "\n",
              "   pressure_first_finger  time_stamp_first  size_first_finger  \\\n",
              "0                     42     1504800509763                4.0   \n",
              "1                     30     1504192489823                4.0   \n",
              "2                     39     1507562393497                3.0   \n",
              "3                     43     1504800515915                4.0   \n",
              "4                     56     1500219771288                7.0   \n",
              "\n",
              "   x_coordinate_first_finger  y_coordinate_first_finger  distance  iskid  \n",
              "0                        326                        944       0.0      1  \n",
              "1                        158                       1535       0.0      1  \n",
              "2                       1192                       1303       0.0      0  \n",
              "3                        154                       1491       0.0      1  \n",
              "4                        624                       1477       0.0      0  "
            ]
          },
          "metadata": {},
          "output_type": "display_data"
        },
        {
          "name": "stdout",
          "output_type": "stream",
          "text": [
            "<class 'pandas.core.frame.DataFrame'>\n",
            "RangeIndex: 17072 entries, 0 to 17071\n",
            "Data columns (total 11 columns):\n",
            " #   Column                     Non-Null Count  Dtype  \n",
            "---  ------                     --------------  -----  \n",
            " 0   gesture_id                 17072 non-null  int64  \n",
            " 1   tap                        17072 non-null  object \n",
            " 2   app_name                   10101 non-null  object \n",
            " 3   origin_first_finger        17072 non-null  bool   \n",
            " 4   pressure_first_finger      17072 non-null  int64  \n",
            " 5   time_stamp_first           17072 non-null  int64  \n",
            " 6   size_first_finger          17069 non-null  float64\n",
            " 7   x_coordinate_first_finger  17072 non-null  int64  \n",
            " 8   y_coordinate_first_finger  17072 non-null  int64  \n",
            " 9   distance                   17072 non-null  float64\n",
            " 10  iskid                      17072 non-null  int64  \n",
            "dtypes: bool(1), float64(2), int64(6), object(2)\n",
            "memory usage: 1.3+ MB\n"
          ]
        }
      ],
      "source": [
        "# google.colab import files\n",
        "import pandas as pd\n",
        "import numpy as np\n",
        "# Load CSV data\n",
        "data = pd.read_csv('data.csv', encoding='latin', low_memory=False)\n",
        "data = pd.DataFrame(data)\n",
        "display(data.head())\n",
        "data.info()"
      ]
    },
    {
      "cell_type": "markdown",
      "metadata": {
        "id": "7kqNYop5-9pw"
      },
      "source": [
        "# 1.1. Features"
      ]
    },
    {
      "cell_type": "code",
      "execution_count": 3,
      "metadata": {
        "colab": {
          "base_uri": "https://localhost:8080/"
        },
        "id": "B7W7xdIn_MwO",
        "outputId": "607f8734-09bc-4d8e-b011-16283ade5dc6"
      },
      "outputs": [
        {
          "name": "stdout",
          "output_type": "stream",
          "text": [
            "Index(['gesture_id', 'tap', 'app_name', 'origin_first_finger',\n",
            "       'pressure_first_finger', 'time_stamp_first', 'size_first_finger',\n",
            "       'x_coordinate_first_finger', 'y_coordinate_first_finger', 'distance',\n",
            "       'iskid'],\n",
            "      dtype='object')\n"
          ]
        }
      ],
      "source": [
        "print(data.columns)"
      ]
    },
    {
      "cell_type": "markdown",
      "metadata": {
        "id": "hSeQygKa6dDa"
      },
      "source": [
        "## 1.2. Unique values discovery"
      ]
    },
    {
      "cell_type": "markdown",
      "metadata": {
        "id": "omu29OSL6cz5"
      },
      "source": []
    },
    {
      "cell_type": "code",
      "execution_count": 4,
      "metadata": {
        "colab": {
          "base_uri": "https://localhost:8080/"
        },
        "id": "PbZxprGA-_j_",
        "outputId": "8e4522fb-ce4f-4d6b-fcb1-87483f7ca404"
      },
      "outputs": [
        {
          "name": "stdout",
          "output_type": "stream",
          "text": [
            "Column 'gesture_id': [ 76  33  37  82  43 157 116 326  59 258 164  77 261  30 109  17 131  46\n",
            " 108 184 124  42  38 125  23  32 127  65  75 182 199 277 186 197 294 137\n",
            " 372 216 272 273 270 174  52 238 491  16 352 135   6 388  79 301 225 122\n",
            " 101 232 256  95 144 130 202 177  56 212 247  99 214  94 323 269 159 330\n",
            " 166 138 246  69 207  88 198 162 196  57 206 396 222 466  66 318   4 282\n",
            "  11 224  74 151 268  93 291 154 440 105  50 193 179 227 252 493 283  98\n",
            "  92   2 106 107 341 185 201 373  20  72 236  84  19 254  10 335 336 299\n",
            " 191 262 295  83  70 161 347 255  87 155 304  64 321 200 150 469 417 239\n",
            " 143 121  18 100 215 213 183 509 281 271 118  80 158  12 260  34 156 296\n",
            "  78 366 259  27  89  68 251   5 237 226 165  51 163 387 204 175  54 241\n",
            " 263 257 292 390  24 242 145 332  40 446  41 168 288 284 327 278 173  26\n",
            " 245  97 104 359 248 208 187 307  53 454 353 148  21 169 172 210  71 460\n",
            "   7 140 315 306 274 369 356  47 279 334 211 538 322 102 266  58 146 123\n",
            " 205 170 264 233 358  13 445 189 320 243 328 134  29  91  22 142 316  63\n",
            " 290 337 313 448 365  48 298 253  36 303  85  49 486   8 128 110 391 126\n",
            " 136 114 427 231 160 413 217 194 378 497 528  14  60 115 384 167 309 376\n",
            " 285 397  81  28 195 218 190 141 308 483 152 419 240 297 111  67 370 475\n",
            " 267 311 181   9 129 505 435 250 149 364 280 112  86 153 192 324 350  55\n",
            " 265 360 113 276 235 293  44 310 416 343 501  90  39 502 363 361 203  15\n",
            " 230 229 500  35 139 340 223 405 228 434 503  25 368  45  96 219 436   3\n",
            "  61 180 354 319 389 302 119 234 431 478 132 176 371 171 456 120  73 329\n",
            "  62 375 464 367 395 305 339 317 420 357 209 425 178 499 147 418 249 338\n",
            " 429 474 103 355 398 380 289 441 333 399 312 348 426 220 221 344 133  31\n",
            " 275 410 403 325 244 404 402 496 287 314 457 443 520 540 511 492 300 362\n",
            " 449 381 487 526 433 481 409 342 442 400 411 188 117 345 349 506 430   1\n",
            " 470 438 386 459 351 379 515 536 414 377 462 489 471 537 374 331 455 480\n",
            " 476 465 428 346 286 488 407 408 382 468 424 522 385 490 383 444 401 508\n",
            " 463 423 453 447 406 484 482 472 516 432 439 412 393 512 452 519 477 415\n",
            " 450 392 437 507 421 458 467 510 498 422 394 521 532 531 544 485 495 527\n",
            " 518 479 529 542 517 534 543 473 451 514 461 504 535 513 541 523 530 525\n",
            " 494 524 533 539]\n",
            "Column 'tap': ['Tap' 'Swipe' 'Unidentified' 'Scroll' 'TwoFinger' 'LongPress']\n",
            "Column 'app_name': [nan 'com.google.android.apps.photos' 'com.mehequanna.gestureplayground'\n",
            " 'com.google.android.youtube' 'com.google.android.googlequicksearchbox'\n",
            " 'com.touchlogger' 'com.google.android.apps.magazines'\n",
            " 'com.android.vending' 'com.google.android.gms' 'com.android.systemui'\n",
            " 'com.talkatone.android' 'com.isispoly.DemoDrawAPIN'\n",
            " 'com.google.android.calendar' 'com.appvv.os9launcherhd'\n",
            " 'com.google.android.GoogleCamera' 'com.android.chrome'\n",
            " 'com.android.documentsui' 'com.google.android.play.games']\n",
            "Column 'origin_first_finger': [False  True]\n",
            "Column 'pressure_first_finger': [ 42  30  39  43  56  27  44  70  22  64  66  45  57  21  28  46  25  61\n",
            "  51  31  33  67  59  38  77  32 102  34  29  80  62  24  69  60  41  50\n",
            "  40  49  26  82  54  23  37  48  52  84  58  87  20  65 109  53  68  47\n",
            "  74  55  35  17 113  72  79  36  81  98  85  75  94 103  89 127  19  73\n",
            "  76  71  78  15  88  96  83  63  18  86 114  93 106 115 107  99 104 112\n",
            "  12 100  13 111  90  16  97 120  91  92  14 108  10 126 118 122 117  95\n",
            " 135 123 119 110 105 101  11 116 131 129 134 130]\n",
            "Column 'time_stamp_first': [1504800509763 1504192489823 1507562393497 ... 1504193922230 1504798428016\n",
            " 1504195214474]\n",
            "Column 'size_first_finger': [ 4.  3.  7.  5.  2.  8.  1.  6. 12. 14.  9. 11. 10. 15. 17. 13. 16. nan\n",
            " 18.]\n",
            "Column 'x_coordinate_first_finger': [ 326  158 1192 ...   47   52 1383]\n",
            "Column 'y_coordinate_first_finger': [ 944 1535 1303 ...  834  852 2424]\n",
            "Column 'distance': [   0.         2313.13207578  955.43968936  904.46945775  848.59236386\n",
            "  858.65592643  857.58089997 1750.57761896 1135.35236821  738.24115301\n",
            " 1822.86368113  989.56000323  308.50769845 1319.27290581  806.23693788\n",
            " 1064.80608563  964.95388491  892.37884332 1212.09941836  231.3201245\n",
            " 1921.45986167  963.68718991  718.04456686 1317.43424883  928.06519168\n",
            " 1953.71773806 1247.02566132 1408.10688515  858.68737035   89.02246907\n",
            " 1390.88784595  965.12797079  813.47464619  751.32416439  799.62803853\n",
            " 1498.6770833  1034.8801863   769.3438763   757.31961549  925.60520742\n",
            "  488.61129745 1054.56768393 1776.92008824 1733.3603203   752.08044782\n",
            " 1207.2501812  1705.87602129  974.53629999  946.73385912 1303.00153492\n",
            "  281.9024654   983.39259708 1061.03722838  192.50974001  865.27510076\n",
            " 1012.11264195  447.94642537 1041.03073922  875.10513654 1249.29580164\n",
            "  468.65339004  874.34146648 1241.55144879 1511.02878861 1718.60321191\n",
            " 1511.1750395   587.57807992  834.84130228 1375.82920452  654.72818788\n",
            " 1155.21123609  879.12058331  806.63250616 1340.66028508  456.20718977\n",
            "  401.15458367  738.35018792 1431.13975558 1313.03084503  933.40773513\n",
            " 1437.1155138   484.9267986   816.95593516  797.23584967 1085.73891889\n",
            " 1928.20330878 1146.25128135  525.39223443  722.53027618  862.19545348\n",
            " 1982.00630675  984.99238576 1113.25109477  875.20111974  985.08730578\n",
            " 1081.06660294  966.53660045 1128.45558176   85.58621384 1862.38046596\n",
            " 1369.91970568 2898.61570409 2025.15826542  572.54519472 1169.05431867\n",
            "  611.07200885  633.29692878  862.24184542 1697.63894866  575.0313035\n",
            "  669.57971893 2427.40128533  961.42914456  933.44148183 2015.61950774\n",
            " 1517.52726499  263.71196408 2125.71987806]\n",
            "Column 'iskid': [1 0]\n"
          ]
        }
      ],
      "source": [
        "for column in data.columns:\n",
        "    # Print the column name and its unique values\n",
        "    print(f\"Column '{column}': {data[column].unique()}\")"
      ]
    },
    {
      "cell_type": "markdown",
      "metadata": {
        "id": "zGH2NdBk6iGi"
      },
      "source": [
        "# 2. Data preprocesssig"
      ]
    },
    {
      "cell_type": "markdown",
      "metadata": {
        "id": "hCHyoUaU_nZT"
      },
      "source": [
        "## 2.1. Data cleaning"
      ]
    },
    {
      "cell_type": "code",
      "execution_count": 5,
      "metadata": {
        "colab": {
          "base_uri": "https://localhost:8080/"
        },
        "id": "oCF_BFks_pRh",
        "outputId": "45a2b494-77e2-46ed-efbf-99c33b7e89c7"
      },
      "outputs": [
        {
          "name": "stdout",
          "output_type": "stream",
          "text": [
            "NaN values in each column:\n",
            "gesture_id                      0\n",
            "tap                             0\n",
            "app_name                     6971\n",
            "origin_first_finger             0\n",
            "pressure_first_finger           0\n",
            "time_stamp_first                0\n",
            "size_first_finger               3\n",
            "x_coordinate_first_finger       0\n",
            "y_coordinate_first_finger       0\n",
            "distance                        0\n",
            "iskid                           0\n",
            "dtype: int64\n"
          ]
        }
      ],
      "source": [
        "# Count the number on nan values for each feature\n",
        "nan_counts = data.isna().sum()\n",
        "print(\"NaN values in each column:\")\n",
        "print(nan_counts)\n"
      ]
    },
    {
      "cell_type": "code",
      "execution_count": 6,
      "metadata": {
        "id": "z2faU6uI_vuv"
      },
      "outputs": [],
      "source": [
        "# Replace NaN values in the 'app name' column with 'Other'\n",
        "data['app_name'].fillna('Other', inplace=True)\n"
      ]
    },
    {
      "cell_type": "code",
      "execution_count": 7,
      "metadata": {
        "id": "sa_qM55M3Q2h"
      },
      "outputs": [],
      "source": [
        "#methode that drop the column that have many nan values\n",
        "#data.drop(columns=['app_name'], inplace=True)"
      ]
    },
    {
      "cell_type": "code",
      "execution_count": 8,
      "metadata": {
        "colab": {
          "base_uri": "https://localhost:8080/"
        },
        "id": "9aKf5QA9__kT",
        "outputId": "a569e2e6-cf43-4ecb-b18a-360278ecdaa0"
      },
      "outputs": [
        {
          "name": "stdout",
          "output_type": "stream",
          "text": [
            "NaN values in each column:\n",
            "gesture_id                   0\n",
            "tap                          0\n",
            "app_name                     0\n",
            "origin_first_finger          0\n",
            "pressure_first_finger        0\n",
            "time_stamp_first             0\n",
            "size_first_finger            3\n",
            "x_coordinate_first_finger    0\n",
            "y_coordinate_first_finger    0\n",
            "distance                     0\n",
            "iskid                        0\n",
            "dtype: int64\n"
          ]
        }
      ],
      "source": [
        "# Count the number of NaN values in each column\n",
        "nan_counts = data.isna().sum()\n",
        "\n",
        "# Print the number of NaN values for each column\n",
        "print(\"NaN values in each column:\")\n",
        "print(nan_counts)"
      ]
    },
    {
      "cell_type": "code",
      "execution_count": 9,
      "metadata": {
        "colab": {
          "base_uri": "https://localhost:8080/"
        },
        "id": "5DnONdOpAH8r",
        "outputId": "bf78a4d8-778e-4a84-d29f-773fbfc0a8d9"
      },
      "outputs": [
        {
          "name": "stdout",
          "output_type": "stream",
          "text": [
            "gesture_id                   0\n",
            "tap                          0\n",
            "app_name                     0\n",
            "origin_first_finger          0\n",
            "pressure_first_finger        0\n",
            "time_stamp_first             0\n",
            "size_first_finger            0\n",
            "x_coordinate_first_finger    0\n",
            "y_coordinate_first_finger    0\n",
            "distance                     0\n",
            "iskid                        0\n",
            "dtype: int64\n"
          ]
        }
      ],
      "source": [
        "# Drop null values\n",
        "data = data.dropna()\n",
        "print(data.isna().sum())\n"
      ]
    },
    {
      "cell_type": "markdown",
      "metadata": {
        "id": "CEy7-925-v5S"
      },
      "source": [
        "##2.2. Data Visualisation"
      ]
    },
    {
      "cell_type": "code",
      "execution_count": 10,
      "metadata": {
        "colab": {
          "base_uri": "https://localhost:8080/",
          "height": 472
        },
        "id": "B02PPm0q-772",
        "outputId": "962d33f1-18a6-417c-ce52-ee24d17ada74"
      },
      "outputs": [
        {
          "data": {
            "image/png": "[encoded data removed]",
            "text/plain": [
              "<Figure size 640x480 with 1 Axes>"
            ]
          },
          "metadata": {},
          "output_type": "display_data"
        }
      ],
      "source": [
        "import seaborn as sns\n",
        "import matplotlib.pyplot as plt\n",
        "\n",
        "# Plot the distribution of the column 'iskid'\n",
        "sns.countplot(x='iskid', data=data)\n",
        "\n",
        "# Add labels and title\n",
        "plt.xlabel('Is Kid')\n",
        "plt.ylabel('Count')\n",
        "plt.title('Distribution of our target')\n",
        "\n",
        "# Show the plot\n",
        "plt.show()\n"
      ]
    },
    {
      "cell_type": "markdown",
      "metadata": {
        "id": "50p7OOO_67D2"
      },
      "source": [
        "* IsKiD is our target\n",
        "* If it has 1 ; it's a kid\n",
        "* else it's a parent"
      ]
    },
    {
      "cell_type": "code",
      "execution_count": 11,
      "metadata": {
        "colab": {
          "base_uri": "https://localhost:8080/"
        },
        "id": "oLWsaxS1AgMD",
        "outputId": "0c52713e-14d3-4524-9288-cf752dec5dbf"
      },
      "outputs": [
        {
          "name": "stdout",
          "output_type": "stream",
          "text": [
            "Possible values of 'tap':\n",
            "tap\n",
            "Swipe           7036\n",
            "Tap             7028\n",
            "Unidentified    2660\n",
            "Scroll           198\n",
            "TwoFinger        116\n",
            "LongPress         31\n",
            "Name: count, dtype: int64\n",
            "\n",
            "Possible values of 'app_name':\n",
            "app_name\n",
            "Other                                      6970\n",
            "com.google.android.apps.photos             6843\n",
            "com.mehequanna.gestureplayground           1369\n",
            "com.google.android.youtube                 1056\n",
            "com.google.android.googlequicksearchbox     618\n",
            "com.touchlogger                             159\n",
            "com.android.systemui                         15\n",
            "com.android.vending                           7\n",
            "com.appvv.os9launcherhd                       7\n",
            "com.talkatone.android                         6\n",
            "com.google.android.gms                        5\n",
            "com.android.chrome                            4\n",
            "com.google.android.calendar                   3\n",
            "com.google.android.apps.magazines             2\n",
            "com.isispoly.DemoDrawAPIN                     2\n",
            "com.google.android.GoogleCamera               1\n",
            "com.android.documentsui                       1\n",
            "com.google.android.play.games                 1\n",
            "Name: count, dtype: int64\n",
            "\n",
            "Possible values of 'origin_first_finger':\n",
            "origin_first_finger\n",
            "True     10421\n",
            "False     6648\n",
            "Name: count, dtype: int64\n"
          ]
        }
      ],
      "source": [
        "# Print possible values of the 'tap' column\n",
        "print(\"Possible values of 'tap':\")\n",
        "print(data['tap'].value_counts())\n",
        "\n",
        "# Print possible values of the 'app_name' column\n",
        "print(\"\\nPossible values of 'app_name':\")\n",
        "print(data['app_name'].value_counts())\n",
        "\n",
        "# Print possible values of the 'origin_first_finger' column\n",
        "print(\"\\nPossible values of 'origin_first_finger':\")\n",
        "print(data['origin_first_finger'].value_counts())\n"
      ]
    },
    {
      "cell_type": "code",
      "execution_count": 12,
      "metadata": {
        "id": "0Fo3vs6eDRtm"
      },
      "outputs": [],
      "source": [
        "#from sklearn.preprocessing import LabelEncoder\n",
        "\n",
        "# Make a copy of the original data\n",
        "#data_e = data.copy()\n",
        "\n",
        "# Initialize LabelEncoder\n",
        "#label_encoder = LabelEncoder()\n",
        "\n",
        "# Encode 'tap' column\n",
        "#data_e['tap'] = label_encoder.fit_transform(data_e['tap'])\n",
        "\n",
        "# Encode 'app_name' column\n",
        "#data_e['app_name'] = label_encoder.fit_transform(data_e['app_name'])\n",
        "#data_e['origin_first_finger'] = label_encoder.fit_transform(data_e['origin_first_finger'])\n"
      ]
    },
    {
      "cell_type": "markdown",
      "metadata": {
        "id": "Kb8bg0nV53W7"
      },
      "source": [
        "#Here we will try Encoding with dummy Methode"
      ]
    },
    {
      "cell_type": "code",
      "execution_count": 13,
      "metadata": {},
      "outputs": [
        {
          "data": {
            "text/html": [
              "<div>\n",
              "<style scoped>\n",
              "    .dataframe tbody tr th:only-of-type {\n",
              "        vertical-align: middle;\n",
              "    }\n",
              "\n",
              "    .dataframe tbody tr th {\n",
              "        vertical-align: top;\n",
              "    }\n",
              "\n",
              "    .dataframe thead th {\n",
              "        text-align: right;\n",
              "    }\n",
              "</style>\n",
              "<table border=\"1\" class=\"dataframe\">\n",
              "  <thead>\n",
              "    <tr style=\"text-align: right;\">\n",
              "      <th></th>\n",
              "      <th>gesture_id</th>\n",
              "      <th>tap</th>\n",
              "      <th>app_name</th>\n",
              "      <th>origin_first_finger</th>\n",
              "      <th>pressure_first_finger</th>\n",
              "      <th>time_stamp_first</th>\n",
              "      <th>size_first_finger</th>\n",
              "      <th>x_coordinate_first_finger</th>\n",
              "      <th>y_coordinate_first_finger</th>\n",
              "      <th>distance</th>\n",
              "      <th>iskid</th>\n",
              "    </tr>\n",
              "  </thead>\n",
              "  <tbody>\n",
              "    <tr>\n",
              "      <th>0</th>\n",
              "      <td>76</td>\n",
              "      <td>Tap</td>\n",
              "      <td>Other</td>\n",
              "      <td>False</td>\n",
              "      <td>42</td>\n",
              "      <td>1504800509763</td>\n",
              "      <td>4.0</td>\n",
              "      <td>326</td>\n",
              "      <td>944</td>\n",
              "      <td>0.0</td>\n",
              "      <td>1</td>\n",
              "    </tr>\n",
              "    <tr>\n",
              "      <th>1</th>\n",
              "      <td>33</td>\n",
              "      <td>Tap</td>\n",
              "      <td>Other</td>\n",
              "      <td>False</td>\n",
              "      <td>30</td>\n",
              "      <td>1504192489823</td>\n",
              "      <td>4.0</td>\n",
              "      <td>158</td>\n",
              "      <td>1535</td>\n",
              "      <td>0.0</td>\n",
              "      <td>1</td>\n",
              "    </tr>\n",
              "    <tr>\n",
              "      <th>2</th>\n",
              "      <td>37</td>\n",
              "      <td>Swipe</td>\n",
              "      <td>com.google.android.apps.photos</td>\n",
              "      <td>True</td>\n",
              "      <td>39</td>\n",
              "      <td>1507562393497</td>\n",
              "      <td>3.0</td>\n",
              "      <td>1192</td>\n",
              "      <td>1303</td>\n",
              "      <td>0.0</td>\n",
              "      <td>0</td>\n",
              "    </tr>\n",
              "    <tr>\n",
              "      <th>3</th>\n",
              "      <td>82</td>\n",
              "      <td>Tap</td>\n",
              "      <td>com.mehequanna.gestureplayground</td>\n",
              "      <td>False</td>\n",
              "      <td>43</td>\n",
              "      <td>1504800515915</td>\n",
              "      <td>4.0</td>\n",
              "      <td>154</td>\n",
              "      <td>1491</td>\n",
              "      <td>0.0</td>\n",
              "      <td>1</td>\n",
              "    </tr>\n",
              "    <tr>\n",
              "      <th>4</th>\n",
              "      <td>43</td>\n",
              "      <td>Swipe</td>\n",
              "      <td>com.google.android.apps.photos</td>\n",
              "      <td>True</td>\n",
              "      <td>56</td>\n",
              "      <td>1500219771288</td>\n",
              "      <td>7.0</td>\n",
              "      <td>624</td>\n",
              "      <td>1477</td>\n",
              "      <td>0.0</td>\n",
              "      <td>0</td>\n",
              "    </tr>\n",
              "  </tbody>\n",
              "</table>\n",
              "</div>"
            ],
            "text/plain": [
              "   gesture_id    tap                          app_name  origin_first_finger  \\\n",
              "0          76    Tap                             Other                False   \n",
              "1          33    Tap                             Other                False   \n",
              "2          37  Swipe    com.google.android.apps.photos                 True   \n",
              "3          82    Tap  com.mehequanna.gestureplayground                False   \n",
              "4          43  Swipe    com.google.android.apps.photos                 True   \n",
              "\n",
              "   pressure_first_finger  time_stamp_first  size_first_finger  \\\n",
              "0                     42     1504800509763                4.0   \n",
              "1                     30     1504192489823                4.0   \n",
              "2                     39     1507562393497                3.0   \n",
              "3                     43     1504800515915                4.0   \n",
              "4                     56     1500219771288                7.0   \n",
              "\n",
              "   x_coordinate_first_finger  y_coordinate_first_finger  distance  iskid  \n",
              "0                        326                        944       0.0      1  \n",
              "1                        158                       1535       0.0      1  \n",
              "2                       1192                       1303       0.0      0  \n",
              "3                        154                       1491       0.0      1  \n",
              "4                        624                       1477       0.0      0  "
            ]
          },
          "execution_count": 13,
          "metadata": {},
          "output_type": "execute_result"
        }
      ],
      "source": [
        "data.head()"
      ]
    },
    {
      "cell_type": "code",
      "execution_count": 14,
      "metadata": {
        "id": "d7J1odsD52SN"
      },
      "outputs": [],
      "source": [
        "df_encoded = pd.get_dummies(data, columns=['tap', 'app_name','origin_first_finger'])\n"
      ]
    },
    {
      "cell_type": "code",
      "execution_count": 15,
      "metadata": {},
      "outputs": [
        {
          "data": {
            "text/html": [
              "<div>\n",
              "<style scoped>\n",
              "    .dataframe tbody tr th:only-of-type {\n",
              "        vertical-align: middle;\n",
              "    }\n",
              "\n",
              "    .dataframe tbody tr th {\n",
              "        vertical-align: top;\n",
              "    }\n",
              "\n",
              "    .dataframe thead th {\n",
              "        text-align: right;\n",
              "    }\n",
              "</style>\n",
              "<table border=\"1\" class=\"dataframe\">\n",
              "  <thead>\n",
              "    <tr style=\"text-align: right;\">\n",
              "      <th></th>\n",
              "      <th>gesture_id</th>\n",
              "      <th>pressure_first_finger</th>\n",
              "      <th>time_stamp_first</th>\n",
              "      <th>size_first_finger</th>\n",
              "      <th>x_coordinate_first_finger</th>\n",
              "      <th>y_coordinate_first_finger</th>\n",
              "      <th>distance</th>\n",
              "      <th>iskid</th>\n",
              "      <th>tap_LongPress</th>\n",
              "      <th>tap_Scroll</th>\n",
              "      <th>...</th>\n",
              "      <th>app_name_com.google.android.gms</th>\n",
              "      <th>app_name_com.google.android.googlequicksearchbox</th>\n",
              "      <th>app_name_com.google.android.play.games</th>\n",
              "      <th>app_name_com.google.android.youtube</th>\n",
              "      <th>app_name_com.isispoly.DemoDrawAPIN</th>\n",
              "      <th>app_name_com.mehequanna.gestureplayground</th>\n",
              "      <th>app_name_com.talkatone.android</th>\n",
              "      <th>app_name_com.touchlogger</th>\n",
              "      <th>origin_first_finger_False</th>\n",
              "      <th>origin_first_finger_True</th>\n",
              "    </tr>\n",
              "  </thead>\n",
              "  <tbody>\n",
              "    <tr>\n",
              "      <th>0</th>\n",
              "      <td>76</td>\n",
              "      <td>42</td>\n",
              "      <td>1504800509763</td>\n",
              "      <td>4.0</td>\n",
              "      <td>326</td>\n",
              "      <td>944</td>\n",
              "      <td>0.0</td>\n",
              "      <td>1</td>\n",
              "      <td>False</td>\n",
              "      <td>False</td>\n",
              "      <td>...</td>\n",
              "      <td>False</td>\n",
              "      <td>False</td>\n",
              "      <td>False</td>\n",
              "      <td>False</td>\n",
              "      <td>False</td>\n",
              "      <td>False</td>\n",
              "      <td>False</td>\n",
              "      <td>False</td>\n",
              "      <td>True</td>\n",
              "      <td>False</td>\n",
              "    </tr>\n",
              "    <tr>\n",
              "      <th>1</th>\n",
              "      <td>33</td>\n",
              "      <td>30</td>\n",
              "      <td>1504192489823</td>\n",
              "      <td>4.0</td>\n",
              "      <td>158</td>\n",
              "      <td>1535</td>\n",
              "      <td>0.0</td>\n",
              "      <td>1</td>\n",
              "      <td>False</td>\n",
              "      <td>False</td>\n",
              "      <td>...</td>\n",
              "      <td>False</td>\n",
              "      <td>False</td>\n",
              "      <td>False</td>\n",
              "      <td>False</td>\n",
              "      <td>False</td>\n",
              "      <td>False</td>\n",
              "      <td>False</td>\n",
              "      <td>False</td>\n",
              "      <td>True</td>\n",
              "      <td>False</td>\n",
              "    </tr>\n",
              "    <tr>\n",
              "      <th>2</th>\n",
              "      <td>37</td>\n",
              "      <td>39</td>\n",
              "      <td>1507562393497</td>\n",
              "      <td>3.0</td>\n",
              "      <td>1192</td>\n",
              "      <td>1303</td>\n",
              "      <td>0.0</td>\n",
              "      <td>0</td>\n",
              "      <td>False</td>\n",
              "      <td>False</td>\n",
              "      <td>...</td>\n",
              "      <td>False</td>\n",
              "      <td>False</td>\n",
              "      <td>False</td>\n",
              "      <td>False</td>\n",
              "      <td>False</td>\n",
              "      <td>False</td>\n",
              "      <td>False</td>\n",
              "      <td>False</td>\n",
              "      <td>False</td>\n",
              "      <td>True</td>\n",
              "    </tr>\n",
              "    <tr>\n",
              "      <th>3</th>\n",
              "      <td>82</td>\n",
              "      <td>43</td>\n",
              "      <td>1504800515915</td>\n",
              "      <td>4.0</td>\n",
              "      <td>154</td>\n",
              "      <td>1491</td>\n",
              "      <td>0.0</td>\n",
              "      <td>1</td>\n",
              "      <td>False</td>\n",
              "      <td>False</td>\n",
              "      <td>...</td>\n",
              "      <td>False</td>\n",
              "      <td>False</td>\n",
              "      <td>False</td>\n",
              "      <td>False</td>\n",
              "      <td>False</td>\n",
              "      <td>True</td>\n",
              "      <td>False</td>\n",
              "      <td>False</td>\n",
              "      <td>True</td>\n",
              "      <td>False</td>\n",
              "    </tr>\n",
              "    <tr>\n",
              "      <th>4</th>\n",
              "      <td>43</td>\n",
              "      <td>56</td>\n",
              "      <td>1500219771288</td>\n",
              "      <td>7.0</td>\n",
              "      <td>624</td>\n",
              "      <td>1477</td>\n",
              "      <td>0.0</td>\n",
              "      <td>0</td>\n",
              "      <td>False</td>\n",
              "      <td>False</td>\n",
              "      <td>...</td>\n",
              "      <td>False</td>\n",
              "      <td>False</td>\n",
              "      <td>False</td>\n",
              "      <td>False</td>\n",
              "      <td>False</td>\n",
              "      <td>False</td>\n",
              "      <td>False</td>\n",
              "      <td>False</td>\n",
              "      <td>False</td>\n",
              "      <td>True</td>\n",
              "    </tr>\n",
              "    <tr>\n",
              "      <th>...</th>\n",
              "      <td>...</td>\n",
              "      <td>...</td>\n",
              "      <td>...</td>\n",
              "      <td>...</td>\n",
              "      <td>...</td>\n",
              "      <td>...</td>\n",
              "      <td>...</td>\n",
              "      <td>...</td>\n",
              "      <td>...</td>\n",
              "      <td>...</td>\n",
              "      <td>...</td>\n",
              "      <td>...</td>\n",
              "      <td>...</td>\n",
              "      <td>...</td>\n",
              "      <td>...</td>\n",
              "      <td>...</td>\n",
              "      <td>...</td>\n",
              "      <td>...</td>\n",
              "      <td>...</td>\n",
              "      <td>...</td>\n",
              "      <td>...</td>\n",
              "    </tr>\n",
              "    <tr>\n",
              "      <th>17067</th>\n",
              "      <td>151</td>\n",
              "      <td>25</td>\n",
              "      <td>1504204183097</td>\n",
              "      <td>2.0</td>\n",
              "      <td>952</td>\n",
              "      <td>1491</td>\n",
              "      <td>0.0</td>\n",
              "      <td>0</td>\n",
              "      <td>False</td>\n",
              "      <td>False</td>\n",
              "      <td>...</td>\n",
              "      <td>False</td>\n",
              "      <td>False</td>\n",
              "      <td>False</td>\n",
              "      <td>False</td>\n",
              "      <td>False</td>\n",
              "      <td>False</td>\n",
              "      <td>False</td>\n",
              "      <td>False</td>\n",
              "      <td>False</td>\n",
              "      <td>True</td>\n",
              "    </tr>\n",
              "    <tr>\n",
              "      <th>17068</th>\n",
              "      <td>241</td>\n",
              "      <td>55</td>\n",
              "      <td>1504720432749</td>\n",
              "      <td>6.0</td>\n",
              "      <td>588</td>\n",
              "      <td>1535</td>\n",
              "      <td>0.0</td>\n",
              "      <td>0</td>\n",
              "      <td>False</td>\n",
              "      <td>False</td>\n",
              "      <td>...</td>\n",
              "      <td>False</td>\n",
              "      <td>False</td>\n",
              "      <td>False</td>\n",
              "      <td>False</td>\n",
              "      <td>False</td>\n",
              "      <td>True</td>\n",
              "      <td>False</td>\n",
              "      <td>False</td>\n",
              "      <td>True</td>\n",
              "      <td>False</td>\n",
              "    </tr>\n",
              "    <tr>\n",
              "      <th>17069</th>\n",
              "      <td>171</td>\n",
              "      <td>55</td>\n",
              "      <td>1504193922230</td>\n",
              "      <td>5.0</td>\n",
              "      <td>919</td>\n",
              "      <td>1558</td>\n",
              "      <td>0.0</td>\n",
              "      <td>1</td>\n",
              "      <td>False</td>\n",
              "      <td>False</td>\n",
              "      <td>...</td>\n",
              "      <td>False</td>\n",
              "      <td>False</td>\n",
              "      <td>False</td>\n",
              "      <td>False</td>\n",
              "      <td>False</td>\n",
              "      <td>False</td>\n",
              "      <td>False</td>\n",
              "      <td>False</td>\n",
              "      <td>False</td>\n",
              "      <td>True</td>\n",
              "    </tr>\n",
              "    <tr>\n",
              "      <th>17070</th>\n",
              "      <td>308</td>\n",
              "      <td>26</td>\n",
              "      <td>1504798428016</td>\n",
              "      <td>2.0</td>\n",
              "      <td>1274</td>\n",
              "      <td>1479</td>\n",
              "      <td>0.0</td>\n",
              "      <td>1</td>\n",
              "      <td>False</td>\n",
              "      <td>False</td>\n",
              "      <td>...</td>\n",
              "      <td>False</td>\n",
              "      <td>False</td>\n",
              "      <td>False</td>\n",
              "      <td>False</td>\n",
              "      <td>False</td>\n",
              "      <td>False</td>\n",
              "      <td>False</td>\n",
              "      <td>False</td>\n",
              "      <td>False</td>\n",
              "      <td>True</td>\n",
              "    </tr>\n",
              "    <tr>\n",
              "      <th>17071</th>\n",
              "      <td>45</td>\n",
              "      <td>48</td>\n",
              "      <td>1504195214474</td>\n",
              "      <td>4.0</td>\n",
              "      <td>145</td>\n",
              "      <td>1535</td>\n",
              "      <td>0.0</td>\n",
              "      <td>1</td>\n",
              "      <td>False</td>\n",
              "      <td>False</td>\n",
              "      <td>...</td>\n",
              "      <td>False</td>\n",
              "      <td>False</td>\n",
              "      <td>False</td>\n",
              "      <td>False</td>\n",
              "      <td>False</td>\n",
              "      <td>False</td>\n",
              "      <td>False</td>\n",
              "      <td>False</td>\n",
              "      <td>True</td>\n",
              "      <td>False</td>\n",
              "    </tr>\n",
              "  </tbody>\n",
              "</table>\n",
              "<p>17069 rows × 34 columns</p>\n",
              "</div>"
            ],
            "text/plain": [
              "       gesture_id  pressure_first_finger  time_stamp_first  size_first_finger  \\\n",
              "0              76                     42     1504800509763                4.0   \n",
              "1              33                     30     1504192489823                4.0   \n",
              "2              37                     39     1507562393497                3.0   \n",
              "3              82                     43     1504800515915                4.0   \n",
              "4              43                     56     1500219771288                7.0   \n",
              "...           ...                    ...               ...                ...   \n",
              "17067         151                     25     1504204183097                2.0   \n",
              "17068         241                     55     1504720432749                6.0   \n",
              "17069         171                     55     1504193922230                5.0   \n",
              "17070         308                     26     1504798428016                2.0   \n",
              "17071          45                     48     1504195214474                4.0   \n",
              "\n",
              "       x_coordinate_first_finger  y_coordinate_first_finger  distance  iskid  \\\n",
              "0                            326                        944       0.0      1   \n",
              "1                            158                       1535       0.0      1   \n",
              "2                           1192                       1303       0.0      0   \n",
              "3                            154                       1491       0.0      1   \n",
              "4                            624                       1477       0.0      0   \n",
              "...                          ...                        ...       ...    ...   \n",
              "17067                        952                       1491       0.0      0   \n",
              "17068                        588                       1535       0.0      0   \n",
              "17069                        919                       1558       0.0      1   \n",
              "17070                       1274                       1479       0.0      1   \n",
              "17071                        145                       1535       0.0      1   \n",
              "\n",
              "       tap_LongPress  tap_Scroll  ...  app_name_com.google.android.gms  \\\n",
              "0              False       False  ...                            False   \n",
              "1              False       False  ...                            False   \n",
              "2              False       False  ...                            False   \n",
              "3              False       False  ...                            False   \n",
              "4              False       False  ...                            False   \n",
              "...              ...         ...  ...                              ...   \n",
              "17067          False       False  ...                            False   \n",
              "17068          False       False  ...                            False   \n",
              "17069          False       False  ...                            False   \n",
              "17070          False       False  ...                            False   \n",
              "17071          False       False  ...                            False   \n",
              "\n",
              "       app_name_com.google.android.googlequicksearchbox  \\\n",
              "0                                                 False   \n",
              "1                                                 False   \n",
              "2                                                 False   \n",
              "3                                                 False   \n",
              "4                                                 False   \n",
              "...                                                 ...   \n",
              "17067                                             False   \n",
              "17068                                             False   \n",
              "17069                                             False   \n",
              "17070                                             False   \n",
              "17071                                             False   \n",
              "\n",
              "       app_name_com.google.android.play.games  \\\n",
              "0                                       False   \n",
              "1                                       False   \n",
              "2                                       False   \n",
              "3                                       False   \n",
              "4                                       False   \n",
              "...                                       ...   \n",
              "17067                                   False   \n",
              "17068                                   False   \n",
              "17069                                   False   \n",
              "17070                                   False   \n",
              "17071                                   False   \n",
              "\n",
              "       app_name_com.google.android.youtube  \\\n",
              "0                                    False   \n",
              "1                                    False   \n",
              "2                                    False   \n",
              "3                                    False   \n",
              "4                                    False   \n",
              "...                                    ...   \n",
              "17067                                False   \n",
              "17068                                False   \n",
              "17069                                False   \n",
              "17070                                False   \n",
              "17071                                False   \n",
              "\n",
              "       app_name_com.isispoly.DemoDrawAPIN  \\\n",
              "0                                   False   \n",
              "1                                   False   \n",
              "2                                   False   \n",
              "3                                   False   \n",
              "4                                   False   \n",
              "...                                   ...   \n",
              "17067                               False   \n",
              "17068                               False   \n",
              "17069                               False   \n",
              "17070                               False   \n",
              "17071                               False   \n",
              "\n",
              "       app_name_com.mehequanna.gestureplayground  \\\n",
              "0                                          False   \n",
              "1                                          False   \n",
              "2                                          False   \n",
              "3                                           True   \n",
              "4                                          False   \n",
              "...                                          ...   \n",
              "17067                                      False   \n",
              "17068                                       True   \n",
              "17069                                      False   \n",
              "17070                                      False   \n",
              "17071                                      False   \n",
              "\n",
              "       app_name_com.talkatone.android  app_name_com.touchlogger  \\\n",
              "0                               False                     False   \n",
              "1                               False                     False   \n",
              "2                               False                     False   \n",
              "3                               False                     False   \n",
              "4                               False                     False   \n",
              "...                               ...                       ...   \n",
              "17067                           False                     False   \n",
              "17068                           False                     False   \n",
              "17069                           False                     False   \n",
              "17070                           False                     False   \n",
              "17071                           False                     False   \n",
              "\n",
              "       origin_first_finger_False  origin_first_finger_True  \n",
              "0                           True                     False  \n",
              "1                           True                     False  \n",
              "2                          False                      True  \n",
              "3                           True                     False  \n",
              "4                          False                      True  \n",
              "...                          ...                       ...  \n",
              "17067                      False                      True  \n",
              "17068                       True                     False  \n",
              "17069                      False                      True  \n",
              "17070                      False                      True  \n",
              "17071                       True                     False  \n",
              "\n",
              "[17069 rows x 34 columns]"
            ]
          },
          "execution_count": 15,
          "metadata": {},
          "output_type": "execute_result"
        }
      ],
      "source": [
        "df_encoded"
      ]
    },
    {
      "cell_type": "code",
      "execution_count": 16,
      "metadata": {
        "colab": {
          "base_uri": "https://localhost:8080/",
          "height": 530
        },
        "id": "5K_2ebqOD1Tb",
        "outputId": "988e9600-4ab9-43ff-fb71-a569ba2c8fb8"
      },
      "outputs": [],
      "source": [
        "df_encoded.drop(columns=['gesture_id'], inplace=True)"
      ]
    },
    {
      "cell_type": "code",
      "execution_count": 19,
      "metadata": {
        "colab": {
          "base_uri": "https://localhost:8080/"
        },
        "id": "8wiZt55OC7yj",
        "outputId": "9b430c58-4856-40f4-8be9-c0ea4216d681"
      },
      "outputs": [
        {
          "name": "stdout",
          "output_type": "stream",
          "text": [
            "   pressure_first_finger  time_stamp_first  size_first_finger  \\\n",
            "0                     42     1504800509763                4.0   \n",
            "1                     30     1504192489823                4.0   \n",
            "2                     39     1507562393497                3.0   \n",
            "3                     43     1504800515915                4.0   \n",
            "4                     56     1500219771288                7.0   \n",
            "\n",
            "   x_coordinate_first_finger  y_coordinate_first_finger  distance  iskid  \\\n",
            "0                        326                        944       0.0      1   \n",
            "1                        158                       1535       0.0      1   \n",
            "2                       1192                       1303       0.0      0   \n",
            "3                        154                       1491       0.0      1   \n",
            "4                        624                       1477       0.0      0   \n",
            "\n",
            "   tap_LongPress  tap_Scroll  tap_Swipe  ...  app_name_com.google.android.gms  \\\n",
            "0          False       False      False  ...                            False   \n",
            "1          False       False      False  ...                            False   \n",
            "2          False       False       True  ...                            False   \n",
            "3          False       False      False  ...                            False   \n",
            "4          False       False       True  ...                            False   \n",
            "\n",
            "   app_name_com.google.android.googlequicksearchbox  \\\n",
            "0                                             False   \n",
            "1                                             False   \n",
            "2                                             False   \n",
            "3                                             False   \n",
            "4                                             False   \n",
            "\n",
            "   app_name_com.google.android.play.games  \\\n",
            "0                                   False   \n",
            "1                                   False   \n",
            "2                                   False   \n",
            "3                                   False   \n",
            "4                                   False   \n",
            "\n",
            "   app_name_com.google.android.youtube  app_name_com.isispoly.DemoDrawAPIN  \\\n",
            "0                                False                               False   \n",
            "1                                False                               False   \n",
            "2                                False                               False   \n",
            "3                                False                               False   \n",
            "4                                False                               False   \n",
            "\n",
            "   app_name_com.mehequanna.gestureplayground  app_name_com.talkatone.android  \\\n",
            "0                                      False                           False   \n",
            "1                                      False                           False   \n",
            "2                                      False                           False   \n",
            "3                                       True                           False   \n",
            "4                                      False                           False   \n",
            "\n",
            "   app_name_com.touchlogger  origin_first_finger_False  \\\n",
            "0                     False                       True   \n",
            "1                     False                       True   \n",
            "2                     False                      False   \n",
            "3                     False                       True   \n",
            "4                     False                      False   \n",
            "\n",
            "   origin_first_finger_True  \n",
            "0                     False  \n",
            "1                     False  \n",
            "2                      True  \n",
            "3                     False  \n",
            "4                      True  \n",
            "\n",
            "[5 rows x 33 columns]\n"
          ]
        }
      ],
      "source": [
        "print(df_encoded.head())"
      ]
    },
    {
      "cell_type": "markdown",
      "metadata": {
        "id": "ownlXi7IEpMe"
      },
      "source": [
        "##3-Machine Learning :"
      ]
    },
    {
      "cell_type": "code",
      "execution_count": 20,
      "metadata": {
        "id": "e4d_KJQkFczq"
      },
      "outputs": [],
      "source": [
        "from sklearn.model_selection import train_test_split\n",
        "from sklearn.neighbors import KNeighborsClassifier\n",
        "from sklearn.svm import SVC\n",
        "from sklearn.metrics import accuracy_score\n",
        "\n",
        "# Split data into features (X) and target variable (y)\n",
        "X = df_encoded.drop(columns=['iskid','time_stamp_first'])\n",
        "y = df_encoded['iskid']"
      ]
    },
    {
      "cell_type": "code",
      "execution_count": 42,
      "metadata": {},
      "outputs": [
        {
          "name": "stdout",
          "output_type": "stream",
          "text": [
            "Index(['pressure_first_finger', 'size_first_finger',\n",
            "       'x_coordinate_first_finger', 'y_coordinate_first_finger', 'distance',\n",
            "       'tap_LongPress', 'tap_Scroll', 'tap_Swipe', 'tap_Tap', 'tap_TwoFinger',\n",
            "       'tap_Unidentified', 'app_name_Other', 'app_name_com.android.chrome',\n",
            "       'app_name_com.android.documentsui', 'app_name_com.android.systemui',\n",
            "       'app_name_com.android.vending', 'app_name_com.appvv.os9launcherhd',\n",
            "       'app_name_com.google.android.GoogleCamera',\n",
            "       'app_name_com.google.android.apps.magazines',\n",
            "       'app_name_com.google.android.apps.photos',\n",
            "       'app_name_com.google.android.calendar',\n",
            "       'app_name_com.google.android.gms',\n",
            "       'app_name_com.google.android.googlequicksearchbox',\n",
            "       'app_name_com.google.android.play.games',\n",
            "       'app_name_com.google.android.youtube',\n",
            "       'app_name_com.isispoly.DemoDrawAPIN',\n",
            "       'app_name_com.mehequanna.gestureplayground',\n",
            "       'app_name_com.talkatone.android', 'app_name_com.touchlogger',\n",
            "       'origin_first_finger_False', 'origin_first_finger_True'],\n",
            "      dtype='object')\n"
          ]
        }
      ],
      "source": [
        "print(X.columns)\n"
      ]
    },
    {
      "cell_type": "code",
      "execution_count": 43,
      "metadata": {},
      "outputs": [
        {
          "ename": "AttributeError",
          "evalue": "'Series' object has no attribute 'columns'",
          "output_type": "error",
          "traceback": [
            "\u001b[1;31m---------------------------------------------------------------------------\u001b[0m",
            "\u001b[1;31mAttributeError\u001b[0m                            Traceback (most recent call last)",
            "\u001b[1;32m~\\AppData\\Local\\Temp\\ipykernel_27040\\3388495855.py\u001b[0m in \u001b[0;36m?\u001b[1;34m()\u001b[0m\n\u001b[1;32m----> 1\u001b[1;33m \u001b[0mprint\u001b[0m\u001b[1;33m(\u001b[0m\u001b[0my\u001b[0m\u001b[1;33m.\u001b[0m\u001b[0mcolumns\u001b[0m\u001b[1;33m)\u001b[0m\u001b[1;33m\u001b[0m\u001b[1;33m\u001b[0m\u001b[0m\n\u001b[0m",
            "\u001b[1;32mc:\\Users\\Hedi Aloulou\\anaconda3\\envs\\deep\\lib\\site-packages\\pandas\\core\\generic.py\u001b[0m in \u001b[0;36m?\u001b[1;34m(self, name)\u001b[0m\n\u001b[0;32m   6200\u001b[0m             \u001b[1;32mand\u001b[0m \u001b[0mname\u001b[0m \u001b[1;32mnot\u001b[0m \u001b[1;32min\u001b[0m \u001b[0mself\u001b[0m\u001b[1;33m.\u001b[0m\u001b[0m_accessors\u001b[0m\u001b[1;33m\u001b[0m\u001b[1;33m\u001b[0m\u001b[0m\n\u001b[0;32m   6201\u001b[0m             \u001b[1;32mand\u001b[0m \u001b[0mself\u001b[0m\u001b[1;33m.\u001b[0m\u001b[0m_info_axis\u001b[0m\u001b[1;33m.\u001b[0m\u001b[0m_can_hold_identifiers_and_holds_name\u001b[0m\u001b[1;33m(\u001b[0m\u001b[0mname\u001b[0m\u001b[1;33m)\u001b[0m\u001b[1;33m\u001b[0m\u001b[1;33m\u001b[0m\u001b[0m\n\u001b[0;32m   6202\u001b[0m         ):\n\u001b[0;32m   6203\u001b[0m             \u001b[1;32mreturn\u001b[0m \u001b[0mself\u001b[0m\u001b[1;33m[\u001b[0m\u001b[0mname\u001b[0m\u001b[1;33m]\u001b[0m\u001b[1;33m\u001b[0m\u001b[1;33m\u001b[0m\u001b[0m\n\u001b[1;32m-> 6204\u001b[1;33m         \u001b[1;32mreturn\u001b[0m \u001b[0mobject\u001b[0m\u001b[1;33m.\u001b[0m\u001b[0m__getattribute__\u001b[0m\u001b[1;33m(\u001b[0m\u001b[0mself\u001b[0m\u001b[1;33m,\u001b[0m \u001b[0mname\u001b[0m\u001b[1;33m)\u001b[0m\u001b[1;33m\u001b[0m\u001b[1;33m\u001b[0m\u001b[0m\n\u001b[0m",
            "\u001b[1;31mAttributeError\u001b[0m: 'Series' object has no attribute 'columns'"
          ]
        }
      ],
      "source": [
        "print(y.columns)"
      ]
    },
    {
      "cell_type": "code",
      "execution_count": 21,
      "metadata": {},
      "outputs": [],
      "source": [
        "from sklearn.preprocessing import StandardScaler\n",
        "# Standardize numerical features\n",
        "scaler = StandardScaler()\n",
        "# Split data into training and testing sets\n",
        "X_train, X_test, y_train, y_test = train_test_split(X, y, test_size=0.2, random_state=42)\n",
        "X_train_scaled = scaler.fit_transform(X_train)\n",
        "X_test_scaled = scaler.transform(X_test)"
      ]
    },
    {
      "cell_type": "code",
      "execution_count": 22,
      "metadata": {
        "colab": {
          "base_uri": "https://localhost:8080/"
        },
        "id": "74GQ8N1nExvC",
        "outputId": "88aeb321-7f47-4048-8824-1f5253d9af03"
      },
      "outputs": [
        {
          "name": "stdout",
          "output_type": "stream",
          "text": [
            "K-Nearest Neighbors Accuracy: 0.606912712360867\n",
            "\n",
            "Confusion Matrix for K-Nearest Neighbors:\n",
            "          Predicted 0  Predicted 1\n",
            "Actual 0          861          681\n",
            "Actual 1          661         1211\n",
            "\n",
            "\n",
            "Random Forest Accuracy: 0.6262448740480375\n",
            "\n",
            "Confusion Matrix for Random Forest:\n",
            "          Predicted 0  Predicted 1\n",
            "Actual 0          873          669\n",
            "Actual 1          607         1265\n",
            "\n",
            "\n",
            "Decision Tree Accuracy: 0.5814294083186877\n",
            "\n",
            "Confusion Matrix for Decision Tree:\n",
            "          Predicted 0  Predicted 1\n",
            "Actual 0          846          696\n",
            "Actual 1          733         1139\n",
            "\n",
            "\n",
            "Support Vector Machine (SVM) Accuracy: 0.6265377855887522\n",
            "\n",
            "Confusion Matrix for Support Vector Machine (SVM):\n",
            "          Predicted 0  Predicted 1\n",
            "Actual 0          723          819\n",
            "Actual 1          456         1416\n",
            "\n",
            "\n"
          ]
        }
      ],
      "source": [
        "from sklearn.neighbors import KNeighborsClassifier\n",
        "from sklearn.ensemble import RandomForestClassifier\n",
        "from sklearn.tree import DecisionTreeClassifier\n",
        "from sklearn.svm import SVC\n",
        "from sklearn.metrics import accuracy_score, confusion_matrix\n",
        "import pandas as pd\n",
        "\n",
        "# Train K-Nearest Neighbors model\n",
        "knn = KNeighborsClassifier()\n",
        "knn.fit(X_train_scaled, y_train)\n",
        "y_pred_knn = knn.predict(X_test_scaled)\n",
        "accuracy_knn = accuracy_score(y_test, y_pred_knn)\n",
        "print(\"K-Nearest Neighbors Accuracy:\", accuracy_knn)\n",
        "\n",
        "# Print confusion matrix for K-Nearest Neighbors\n",
        "cm_knn = confusion_matrix(y_test, y_pred_knn)\n",
        "print(\"\\nConfusion Matrix for K-Nearest Neighbors:\")\n",
        "print(pd.DataFrame(cm_knn, index=['Actual 0', 'Actual 1'], columns=['Predicted 0', 'Predicted 1']))\n",
        "print(\"\\n\")\n",
        "\n",
        "# Train Random Forest model\n",
        "rf = RandomForestClassifier(random_state=42)\n",
        "rf.fit(X_train_scaled, y_train)\n",
        "y_pred_rf = rf.predict(X_test_scaled)\n",
        "accuracy_rf = accuracy_score(y_test, y_pred_rf)\n",
        "print(\"Random Forest Accuracy:\", accuracy_rf)\n",
        "\n",
        "# Print confusion matrix for Random Forest\n",
        "cm_rf = confusion_matrix(y_test, y_pred_rf)\n",
        "print(\"\\nConfusion Matrix for Random Forest:\")\n",
        "print(pd.DataFrame(cm_rf, index=['Actual 0', 'Actual 1'], columns=['Predicted 0', 'Predicted 1']))\n",
        "print(\"\\n\")\n",
        "\n",
        "# Train Decision Tree model\n",
        "tree = DecisionTreeClassifier(random_state=42)\n",
        "tree.fit(X_train_scaled, y_train)\n",
        "y_pred_dt = tree.predict(X_test_scaled)\n",
        "accuracy_dt = accuracy_score(y_test, y_pred_dt)\n",
        "print(\"Decision Tree Accuracy:\", accuracy_dt)\n",
        "\n",
        "# Print confusion matrix for Decision Tree\n",
        "cm_dt = confusion_matrix(y_test, y_pred_dt)\n",
        "print(\"\\nConfusion Matrix for Decision Tree:\")\n",
        "print(pd.DataFrame(cm_dt, index=['Actual 0', 'Actual 1'], columns=['Predicted 0', 'Predicted 1']))\n",
        "print(\"\\n\")\n",
        "\n",
        "# Train Support Vector Machine (SVM) model\n",
        "svm = SVC(random_state=42)\n",
        "svm.fit(X_train_scaled, y_train)\n",
        "y_pred_svm = svm.predict(X_test_scaled)\n",
        "accuracy_svm = accuracy_score(y_test, y_pred_svm)\n",
        "print(\"Support Vector Machine (SVM) Accuracy:\", accuracy_svm)\n",
        "\n",
        "# Print confusion matrix for SVM\n",
        "cm_svm = confusion_matrix(y_test, y_pred_svm)\n",
        "print(\"\\nConfusion Matrix for Support Vector Machine (SVM):\")\n",
        "print(pd.DataFrame(cm_svm, index=['Actual 0', 'Actual 1'], columns=['Predicted 0', 'Predicted 1']))\n",
        "print(\"\\n\")\n"
      ]
    },
    {
      "cell_type": "markdown",
      "metadata": {
        "id": "zNRJgcnS1JE2"
      },
      "source": [
        "##4- Training with Cross Validation Methode"
      ]
    },
    {
      "cell_type": "code",
      "execution_count": 23,
      "metadata": {
        "colab": {
          "base_uri": "https://localhost:8080/"
        },
        "id": "gUJNDuKh1N_C",
        "outputId": "2e4b9dc4-5fb8-414c-c556-2ba6f485b33b"
      },
      "outputs": [
        {
          "name": "stdout",
          "output_type": "stream",
          "text": [
            "K-Nearest Neighbors Cross-Validation Accuracies: [0.59209081 0.59465397 0.58147199 0.58623215 0.57964116]\n",
            "Mean Accuracy: 0.586818015378982\n",
            "\n",
            "Random Forest Cross-Validation Accuracies: [0.61039912 0.62504577 0.61589161 0.60600513 0.61332845]\n",
            "Mean Accuracy: 0.6141340168436471\n",
            "\n",
            "Decision Tree Cross-Validation Accuracies: [0.55547419 0.57964116 0.58257049 0.55913585 0.55254486]\n",
            "Mean Accuracy: 0.5658733064811424\n"
          ]
        }
      ],
      "source": [
        "from sklearn.metrics import accuracy_score\n",
        "from sklearn.model_selection import cross_val_score\n",
        "# Train K-Nearest Neighbors model with cross-validation\n",
        "knn_cv = KNeighborsClassifier()\n",
        "accuracy_knn_cv = cross_val_score(knn_cv, X_train_scaled, y_train, cv=5, scoring='accuracy')\n",
        "print(\"K-Nearest Neighbors Cross-Validation Accuracies:\", accuracy_knn_cv)\n",
        "print(\"Mean Accuracy:\", accuracy_knn_cv.mean())\n",
        "\n",
        "# Train Random Forest model with cross-validation\n",
        "rf_cv = RandomForestClassifier(random_state=42)\n",
        "accuracy_rf_cv = cross_val_score(rf_cv, X_train_scaled, y_train, cv=5, scoring='accuracy')\n",
        "print(\"\\nRandom Forest Cross-Validation Accuracies:\", accuracy_rf_cv)\n",
        "print(\"Mean Accuracy:\", accuracy_rf_cv.mean())\n",
        "\n",
        "# Train Decision Tree model with cross-validation\n",
        "dt_cv = DecisionTreeClassifier(random_state=42)\n",
        "accuracy_dt_cv = cross_val_score(dt_cv, X_train_scaled, y_train, cv=5, scoring='accuracy')\n",
        "print(\"\\nDecision Tree Cross-Validation Accuracies:\", accuracy_dt_cv)\n",
        "print(\"Mean Accuracy:\", accuracy_dt_cv.mean())\n"
      ]
    },
    {
      "cell_type": "markdown",
      "metadata": {
        "id": "e-blfemAlIGS"
      },
      "source": [
        "##Neural Network Model"
      ]
    },
    {
      "cell_type": "code",
      "execution_count": 35,
      "metadata": {
        "colab": {
          "base_uri": "https://localhost:8080/"
        },
        "id": "NQh48sfWlLcs",
        "outputId": "a9c880ea-f358-4101-fef6-bc9ddd3df180"
      },
      "outputs": [
        {
          "name": "stdout",
          "output_type": "stream",
          "text": [
            "K-Nearest Neighbors Cross-Validation Accuracies: [0.59209081 0.59465397 0.58147199 0.58623215 0.57964116]\n",
            "Mean Accuracy: 0.586818015378982\n",
            "\n",
            "Random Forest Cross-Validation Accuracies: [0.61039912 0.62504577 0.61589161 0.60600513 0.61332845]\n",
            "Mean Accuracy: 0.6141340168436471\n",
            "\n",
            "Decision Tree Cross-Validation Accuracies: [0.55547419 0.57964116 0.58257049 0.55913585 0.55254486]\n",
            "Mean Accuracy: 0.5658733064811424\n"
          ]
        },
        {
          "data": {
            "text/html": [
              "<style>#sk-container-id-1 {color: black;}#sk-container-id-1 pre{padding: 0;}#sk-container-id-1 div.sk-toggleable {background-color: white;}#sk-container-id-1 label.sk-toggleable__label {cursor: pointer;display: block;width: 100%;margin-bottom: 0;padding: 0.3em;box-sizing: border-box;text-align: center;}#sk-container-id-1 label.sk-toggleable__label-arrow:before {content: \"▸\";float: left;margin-right: 0.25em;color: #696969;}#sk-container-id-1 label.sk-toggleable__label-arrow:hover:before {color: black;}#sk-container-id-1 div.sk-estimator:hover label.sk-toggleable__label-arrow:before {color: black;}#sk-container-id-1 div.sk-toggleable__content {max-height: 0;max-width: 0;overflow: hidden;text-align: left;background-color: #f0f8ff;}#sk-container-id-1 div.sk-toggleable__content pre {margin: 0.2em;color: black;border-radius: 0.25em;background-color: #f0f8ff;}#sk-container-id-1 input.sk-toggleable__control:checked~div.sk-toggleable__content {max-height: 200px;max-width: 100%;overflow: auto;}#sk-container-id-1 input.sk-toggleable__control:checked~label.sk-toggleable__label-arrow:before {content: \"▾\";}#sk-container-id-1 div.sk-estimator input.sk-toggleable__control:checked~label.sk-toggleable__label {background-color: #d4ebff;}#sk-container-id-1 div.sk-label input.sk-toggleable__control:checked~label.sk-toggleable__label {background-color: #d4ebff;}#sk-container-id-1 input.sk-hidden--visually {border: 0;clip: rect(1px 1px 1px 1px);clip: rect(1px, 1px, 1px, 1px);height: 1px;margin: -1px;overflow: hidden;padding: 0;position: absolute;width: 1px;}#sk-container-id-1 div.sk-estimator {font-family: monospace;background-color: #f0f8ff;border: 1px dotted black;border-radius: 0.25em;box-sizing: border-box;margin-bottom: 0.5em;}#sk-container-id-1 div.sk-estimator:hover {background-color: #d4ebff;}#sk-container-id-1 div.sk-parallel-item::after {content: \"\";width: 100%;border-bottom: 1px solid gray;flex-grow: 1;}#sk-container-id-1 div.sk-label:hover label.sk-toggleable__label {background-color: #d4ebff;}#sk-container-id-1 div.sk-serial::before {content: \"\";position: absolute;border-left: 1px solid gray;box-sizing: border-box;top: 0;bottom: 0;left: 50%;z-index: 0;}#sk-container-id-1 div.sk-serial {display: flex;flex-direction: column;align-items: center;background-color: white;padding-right: 0.2em;padding-left: 0.2em;position: relative;}#sk-container-id-1 div.sk-item {position: relative;z-index: 1;}#sk-container-id-1 div.sk-parallel {display: flex;align-items: stretch;justify-content: center;background-color: white;position: relative;}#sk-container-id-1 div.sk-item::before, #sk-container-id-1 div.sk-parallel-item::before {content: \"\";position: absolute;border-left: 1px solid gray;box-sizing: border-box;top: 0;bottom: 0;left: 50%;z-index: -1;}#sk-container-id-1 div.sk-parallel-item {display: flex;flex-direction: column;z-index: 1;position: relative;background-color: white;}#sk-container-id-1 div.sk-parallel-item:first-child::after {align-self: flex-end;width: 50%;}#sk-container-id-1 div.sk-parallel-item:last-child::after {align-self: flex-start;width: 50%;}#sk-container-id-1 div.sk-parallel-item:only-child::after {width: 0;}#sk-container-id-1 div.sk-dashed-wrapped {border: 1px dashed gray;margin: 0 0.4em 0.5em 0.4em;box-sizing: border-box;padding-bottom: 0.4em;background-color: white;}#sk-container-id-1 div.sk-label label {font-family: monospace;font-weight: bold;display: inline-block;line-height: 1.2em;}#sk-container-id-1 div.sk-label-container {text-align: center;}#sk-container-id-1 div.sk-container {/* jupyter's `normalize.less` sets `[hidden] { display: none; }` but bootstrap.min.css set `[hidden] { display: none !important; }` so we also need the `!important` here to be able to override the default hidden behavior on the sphinx rendered scikit-learn.org. See: https://github.com/scikit-learn/scikit-learn/issues/21755 */display: inline-block !important;position: relative;}#sk-container-id-1 div.sk-text-repr-fallback {display: none;}</style><div id=\"sk-container-id-1\" class=\"sk-top-container\"><div class=\"sk-text-repr-fallback\"><pre>RandomForestClassifier(random_state=42)</pre><b>In a Jupyter environment, please rerun this cell to show the HTML representation or trust the notebook. <br />On GitHub, the HTML representation is unable to render, please try loading this page with nbviewer.org.</b></div><div class=\"sk-container\" hidden><div class=\"sk-item\"><div class=\"sk-estimator sk-toggleable\"><input class=\"sk-toggleable__control sk-hidden--visually\" id=\"sk-estimator-id-1\" type=\"checkbox\" checked><label for=\"sk-estimator-id-1\" class=\"sk-toggleable__label sk-toggleable__label-arrow\">RandomForestClassifier</label><div class=\"sk-toggleable__content\"><pre>RandomForestClassifier(random_state=42)</pre></div></div></div></div></div>"
            ],
            "text/plain": [
              "RandomForestClassifier(random_state=42)"
            ]
          },
          "execution_count": 35,
          "metadata": {},
          "output_type": "execute_result"
        }
      ],
      "source": [
        "from sklearn.neighbors import KNeighborsClassifier\n",
        "from sklearn.ensemble import RandomForestClassifier\n",
        "from sklearn.tree import DecisionTreeClassifier\n",
        "from sklearn.svm import SVC\n",
        "from sklearn.metrics import accuracy_score\n",
        "from sklearn.model_selection import cross_val_score\n",
        "import pandas as pd\n",
        "\n",
        "# Define your features X and target variable y\n",
        "\n",
        "# Perform feature scaling if necessary\n",
        "\n",
        "# Train K-Nearest Neighbors model with cross-validation\n",
        "knn_cv = KNeighborsClassifier()\n",
        "accuracy_knn_cv = cross_val_score(knn_cv, X_train_scaled, y_train, cv=5, scoring='accuracy')\n",
        "print(\"K-Nearest Neighbors Cross-Validation Accuracies:\", accuracy_knn_cv)\n",
        "print(\"Mean Accuracy:\", accuracy_knn_cv.mean())\n",
        "\n",
        "# Train Random Forest model with cross-validation\n",
        "rf_cv = RandomForestClassifier(random_state=42)\n",
        "accuracy_rf_cv = cross_val_score(rf_cv, X_train_scaled, y_train, cv=5, scoring='accuracy')\n",
        "print(\"\\nRandom Forest Cross-Validation Accuracies:\", accuracy_rf_cv)\n",
        "print(\"Mean Accuracy:\", accuracy_rf_cv.mean())\n",
        "\n",
        "# Train Decision Tree model with cross-validation\n",
        "dt_cv = DecisionTreeClassifier(random_state=42)\n",
        "accuracy_dt_cv = cross_val_score(dt_cv, X_train_scaled, y_train, cv=5, scoring='accuracy')\n",
        "print(\"\\nDecision Tree Cross-Validation Accuracies:\", accuracy_dt_cv)\n",
        "print(\"Mean Accuracy:\", accuracy_dt_cv.mean())\n",
        "rf_cv.fit(X_train_scaled, y_train)\n",
        "\n",
        "#svm_cv = SVC(kernel='linear', random_state=42)\n",
        "#accuracy_svm_cv = cross_val_score(svm_cv, X_train_scaled, y_train, cv=5, scoring='accuracy')\n",
        "#print(\"\\nSVM Cross-Validation Accuracies:\", accuracy_svm_cv)\n",
        "#print(\"Mean Accuracy:\", accuracy_svm_cv.mean())\n"
      ]
    },
    {
      "cell_type": "markdown",
      "metadata": {
        "id": "YQ0YlNUPEM7T"
      },
      "source": [
        "## Model Deployment"
      ]
    },
    {
      "cell_type": "code",
      "execution_count": 27,
      "metadata": {},
      "outputs": [
        {
          "name": "stdout",
          "output_type": "stream",
          "text": [
            "Epoch 1/20\n",
            "342/342 [==============================] - 14s 28ms/step - loss: 0.6729 - accuracy: 0.5758 - val_loss: 0.6575 - val_accuracy: 0.6100\n",
            "Epoch 2/20\n",
            "342/342 [==============================] - 9s 26ms/step - loss: 0.6531 - accuracy: 0.6103 - val_loss: 0.6459 - val_accuracy: 0.6192\n",
            "Epoch 3/20\n",
            "342/342 [==============================] - 9s 25ms/step - loss: 0.6447 - accuracy: 0.6174 - val_loss: 0.6463 - val_accuracy: 0.6108\n",
            "Epoch 4/20\n",
            "342/342 [==============================] - 9s 27ms/step - loss: 0.6391 - accuracy: 0.6271 - val_loss: 0.6426 - val_accuracy: 0.6239\n",
            "Epoch 5/20\n",
            "342/342 [==============================] - 8s 25ms/step - loss: 0.6369 - accuracy: 0.6283 - val_loss: 0.6421 - val_accuracy: 0.6199\n",
            "Epoch 6/20\n",
            "342/342 [==============================] - 8s 25ms/step - loss: 0.6335 - accuracy: 0.6311 - val_loss: 0.6440 - val_accuracy: 0.6218\n",
            "Epoch 7/20\n",
            "342/342 [==============================] - 9s 27ms/step - loss: 0.6312 - accuracy: 0.6300 - val_loss: 0.6394 - val_accuracy: 0.6368\n",
            "Epoch 8/20\n",
            "342/342 [==============================] - 10s 29ms/step - loss: 0.6294 - accuracy: 0.6345 - val_loss: 0.6413 - val_accuracy: 0.6188\n",
            "Epoch 9/20\n",
            "342/342 [==============================] - 10s 28ms/step - loss: 0.6282 - accuracy: 0.6307 - val_loss: 0.6399 - val_accuracy: 0.6294\n",
            "Epoch 10/20\n",
            "342/342 [==============================] - 10s 29ms/step - loss: 0.6260 - accuracy: 0.6371 - val_loss: 0.6389 - val_accuracy: 0.6305\n",
            "Epoch 11/20\n",
            "342/342 [==============================] - 10s 28ms/step - loss: 0.6254 - accuracy: 0.6351 - val_loss: 0.6387 - val_accuracy: 0.6185\n",
            "Epoch 12/20\n",
            "342/342 [==============================] - 9s 28ms/step - loss: 0.6254 - accuracy: 0.6313 - val_loss: 0.6382 - val_accuracy: 0.6269\n",
            "Epoch 13/20\n",
            "342/342 [==============================] - 9s 27ms/step - loss: 0.6224 - accuracy: 0.6406 - val_loss: 0.6438 - val_accuracy: 0.6141\n",
            "Epoch 14/20\n",
            "342/342 [==============================] - 9s 27ms/step - loss: 0.6215 - accuracy: 0.6425 - val_loss: 0.6404 - val_accuracy: 0.6269\n",
            "Epoch 15/20\n",
            "342/342 [==============================] - 9s 26ms/step - loss: 0.6193 - accuracy: 0.6423 - val_loss: 0.6474 - val_accuracy: 0.6082\n",
            "Epoch 16/20\n",
            "342/342 [==============================] - 9s 27ms/step - loss: 0.6188 - accuracy: 0.6423 - val_loss: 0.6433 - val_accuracy: 0.6119\n",
            "Epoch 17/20\n",
            "342/342 [==============================] - 10s 28ms/step - loss: 0.6183 - accuracy: 0.6424 - val_loss: 0.6412 - val_accuracy: 0.6254\n",
            "Epoch 18/20\n",
            "342/342 [==============================] - 9s 27ms/step - loss: 0.6168 - accuracy: 0.6434 - val_loss: 0.6515 - val_accuracy: 0.6111\n",
            "Epoch 19/20\n",
            "342/342 [==============================] - 9s 26ms/step - loss: 0.6167 - accuracy: 0.6442 - val_loss: 0.6432 - val_accuracy: 0.6159\n",
            "Epoch 20/20\n",
            "342/342 [==============================] - 8s 24ms/step - loss: 0.6153 - accuracy: 0.6510 - val_loss: 0.6405 - val_accuracy: 0.6269\n",
            "107/107 [==============================] - 1s 11ms/step - loss: 0.6394 - accuracy: 0.6271\n",
            "Test Loss: 0.6393734812736511, Test Accuracy: 0.6271235942840576\n",
            "107/107 [==============================] - 2s 13ms/step - loss: 0.6372 - accuracy: 0.6359\n",
            "Best Model Test Loss: 0.6372385025024414, Best Model Test Accuracy: 0.6359109282493591\n"
          ]
        }
      ],
      "source": [
        "import numpy as np\n",
        "import pandas as pd\n",
        "from sklearn.model_selection import train_test_split\n",
        "from sklearn.preprocessing import StandardScaler\n",
        "import tensorflow as tf\n",
        "from tensorflow.keras.models import Sequential\n",
        "from tensorflow.keras.layers import Dense\n",
        "from tensorflow.keras.callbacks import ModelCheckpoint\n",
        "\n",
        "\n",
        "# Build the neural network model\n",
        "model = Sequential([\n",
        "    Dense(64, activation='relu', input_shape=(X_train_scaled.shape[1],)),\n",
        "    Dense(32, activation='relu'),\n",
        "    Dense(32, activation='relu'),\n",
        "    Dense(32, activation='relu'),\n",
        "    Dense(1, activation='sigmoid')  # Binary classification, so use sigmoid activation\n",
        "])\n",
        "\n",
        "# Compile the model\n",
        "model.compile(optimizer='adam', loss='binary_crossentropy', metrics=['accuracy'])\n",
        "\n",
        "# Define the checkpoint callback\n",
        "checkpoint_cb = ModelCheckpoint('best_model.h5', save_best_only=True, monitor='val_accuracy', mode='max')\n",
        "\n",
        "# Train the model with the checkpoint callback\n",
        "history = model.fit(X_train_scaled, y_train, epochs=20, batch_size=32, validation_split=0.2, callbacks=[checkpoint_cb])\n",
        "\n",
        "# Evaluate the model\n",
        "loss, accuracy = model.evaluate(X_test_scaled, y_test)\n",
        "print(f'Test Loss: {loss}, Test Accuracy: {accuracy}')\n",
        "\n",
        "# Load the best model saved during training\n",
        "best_model = tf.keras.models.load_model('best_model.h5')\n",
        "\n",
        "# Evaluate the best model\n",
        "best_loss, best_accuracy = best_model.evaluate(X_test_scaled, y_test)\n",
        "print(f'Best Model Test Loss: {best_loss}, Best Model Test Accuracy: {best_accuracy}')\n"
      ]
    },
    {
      "cell_type": "code",
      "execution_count": 31,
      "metadata": {},
      "outputs": [
        {
          "name": "stdout",
          "output_type": "stream",
          "text": [
            "INFO:tensorflow:Assets written to: ram://1a1cd9a7-e410-418d-ac71-c9c52bdaf99b/assets\n"
          ]
        }
      ],
      "source": [
        "import tensorflow as tf\n",
        "\n",
        "# Load the best model from the HDF5 file\n",
        "best_model = tf.keras.models.load_model('best_model.h5')\n",
        "\n",
        "# Save the model to a pickle file\n",
        "with open('best_model.pickle', 'wb') as f:\n",
        "    pickle.dump(best_model, f)"
      ]
    },
    {
      "cell_type": "code",
      "execution_count": 36,
      "metadata": {},
      "outputs": [],
      "source": [
        "import pickle\n",
        "pickle.dump(rf_cv,open('random_forest.pickle',\"wb\"))"
      ]
    },
    {
      "cell_type": "code",
      "execution_count": null,
      "metadata": {},
      "outputs": [],
      "source": []
    }
  ],
  "metadata": {
    "colab": {
      "provenance": []
    },
    "kernelspec": {
      "display_name": "Python 3",
      "name": "python3"
    },
    "language_info": {
      "codemirror_mode": {
        "name": "ipython",
        "version": 3
      },
      "file_extension": ".py",
      "mimetype": "text/x-python",
      "name": "python",
      "nbconvert_exporter": "python",
      "pygments_lexer": "ipython3",
      "version": "3.10.13"
    }
  },
  "nbformat": 4,
  "nbformat_minor": 0
}
